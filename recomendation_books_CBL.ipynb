{
  "nbformat": 4,
  "nbformat_minor": 0,
  "metadata": {
    "colab": {
      "provenance": [],
      "gpuType": "T4"
    },
    "kernelspec": {
      "name": "python3",
      "display_name": "Python 3"
    },
    "language_info": {
      "name": "python"
    },
    "accelerator": "GPU"
  },
  "cells": [
    {
      "cell_type": "markdown",
      "source": [
        "# **Sistem Rekomendasi Buku**"
      ],
      "metadata": {
        "id": "TQKnJJ1JORAv"
      }
    },
    {
      "cell_type": "markdown",
      "source": [
        "Proyek ini merupakan bagian dari submission kelas Machine Learning Terapan di Dicoding. Tujuan utama dari proyek ini adalah membangun sistem rekomendasi dengan memilih salah satu pendekatan yaitu, ***Content Based Filtering*** atau ***Collaborative Filtering*** sebagai algoritma utama dalam mengatasi masalah yang dipilih.\n",
        "\n",
        "\n",
        "<br>Pada proyek ini, sistem rekomendasi buku dibangun dengan menggunakan pendekatan ***Collaborative Filtering*** sebagai algoritma utama dalam membangun model rekomendasi.\n",
        "\n"
      ],
      "metadata": {
        "id": "vmbYZxrjOZ5a"
      }
    },
    {
      "cell_type": "markdown",
      "source": [
        "### 📚 Dataset yang Digunakan\n",
        "\n",
        "Dataset yang digunakan adalah dataset buku dari Amazon yang tersedia di [Kaggle](https://www.kaggle.com/datasets/saurabhbagchi/books-dataset). Dataset ini terdiri dari tiga file berformat `.csv`, yaitu:\n",
        "\n",
        "- **`books.csv`**  \n",
        "  Berisi informasi tentang buku, terdiri dari 8 kolom:\n",
        "  - `ISBN`\n",
        "  - `Book-Title`\n",
        "  - `Book-Author`\n",
        "  - `Year-Of-Publication`\n",
        "  - `Publisher`\n",
        "  - `Image-URL-S`\n",
        "  - `Image-URL-M`\n",
        "  - `Image-URL-L`\n",
        "\n",
        "- **`ratings.csv`**  \n",
        "  Berisi data penilaian buku oleh pengguna, terdiri dari 3 kolom:\n",
        "  - `User-ID`\n",
        "  - `ISBN`\n",
        "  - `Book-Rating`\n",
        "\n",
        "- **`users.csv`**  \n",
        "  Berisi informasi pengguna, terdiri dari 3 kolom:\n",
        "  - `User-ID`\n",
        "  - `Location`\n",
        "  - `Age`"
      ],
      "metadata": {
        "id": "6S2wUnriQHtF"
      }
    },
    {
      "cell_type": "markdown",
      "source": [
        "## **Import Library**"
      ],
      "metadata": {
        "id": "2NeP4g5aXtWH"
      }
    },
    {
      "cell_type": "markdown",
      "source": [
        "Pada bagian ini, saya mengimpor seluruh library Python yang akan digunakan selama proyek ini berlangsung:"
      ],
      "metadata": {
        "id": "7fcSaYnuX1UQ"
      }
    },
    {
      "cell_type": "code",
      "execution_count": 1,
      "metadata": {
        "id": "dikDz95DMXad"
      },
      "outputs": [],
      "source": [
        "import pandas as pd\n",
        "from pathlib import Path\n",
        "import numpy as np\n",
        "import re"
      ]
    },
    {
      "cell_type": "markdown",
      "source": [
        "## **Data Understanding**"
      ],
      "metadata": {
        "id": "oeTkpNdLYcHK"
      }
    },
    {
      "cell_type": "markdown",
      "source": [
        "### 📂 Pembacaan Dataset\n",
        "\n",
        "Pada tahap ini, dataset dibaca dari Google Drive dengan menggunakan `pandas`. Dataset terdiri dari tiga file utama:\n",
        "\n",
        "- `books.csv`: berisi informasi detail buku\n",
        "- `users.csv`: berisi data pengguna\n",
        "- `ratings.csv`: berisi data rating atau penilaian buku oleh pengguna"
      ],
      "metadata": {
        "id": "DQlQ0Hb-grlx"
      }
    },
    {
      "cell_type": "code",
      "source": [
        "# Dataset path\n",
        "book_path = Path('/content/drive/MyDrive/Books-Ratings-Dataset/books.csv')\n",
        "user_path = Path('/content/drive/MyDrive/Books-Ratings-Dataset/users.csv')\n",
        "rating_path = Path('/content/drive/MyDrive/Books-Ratings-Dataset/ratings.csv')"
      ],
      "metadata": {
        "id": "ZZpFd7ktb6hx"
      },
      "execution_count": 2,
      "outputs": []
    },
    {
      "cell_type": "code",
      "source": [
        "books = pd.read_csv(book_path, encoding='latin1', sep=';', on_bad_lines='warn')\n",
        "user = pd.read_csv(user_path, encoding='latin1', sep=';', on_bad_lines='warn')\n",
        "rating = pd.read_csv(rating_path, encoding='latin1', sep=';', on_bad_lines='warn')"
      ],
      "metadata": {
        "colab": {
          "base_uri": "https://localhost:8080/"
        },
        "collapsed": true,
        "id": "Ok_F8SKbYfal",
        "outputId": "ac0ce1c1-6c75-4211-c8f0-b7de88228a8e"
      },
      "execution_count": 3,
      "outputs": [
        {
          "output_type": "stream",
          "name": "stderr",
          "text": [
            "/tmp/ipython-input-3-3787633605.py:1: ParserWarning: Skipping line 6452: expected 8 fields, saw 9\n",
            "Skipping line 43667: expected 8 fields, saw 10\n",
            "Skipping line 51751: expected 8 fields, saw 9\n",
            "\n",
            "  books = pd.read_csv(book_path, encoding='latin1', sep=';', on_bad_lines='warn')\n",
            "/tmp/ipython-input-3-3787633605.py:1: ParserWarning: Skipping line 92038: expected 8 fields, saw 9\n",
            "Skipping line 104319: expected 8 fields, saw 9\n",
            "Skipping line 121768: expected 8 fields, saw 9\n",
            "\n",
            "  books = pd.read_csv(book_path, encoding='latin1', sep=';', on_bad_lines='warn')\n",
            "/tmp/ipython-input-3-3787633605.py:1: ParserWarning: Skipping line 144058: expected 8 fields, saw 9\n",
            "Skipping line 150789: expected 8 fields, saw 9\n",
            "Skipping line 157128: expected 8 fields, saw 9\n",
            "Skipping line 180189: expected 8 fields, saw 9\n",
            "Skipping line 185738: expected 8 fields, saw 9\n",
            "\n",
            "  books = pd.read_csv(book_path, encoding='latin1', sep=';', on_bad_lines='warn')\n",
            "/tmp/ipython-input-3-3787633605.py:1: ParserWarning: Skipping line 209388: expected 8 fields, saw 9\n",
            "Skipping line 220626: expected 8 fields, saw 9\n",
            "Skipping line 227933: expected 8 fields, saw 11\n",
            "Skipping line 228957: expected 8 fields, saw 10\n",
            "Skipping line 245933: expected 8 fields, saw 9\n",
            "Skipping line 251296: expected 8 fields, saw 9\n",
            "Skipping line 259941: expected 8 fields, saw 9\n",
            "Skipping line 261529: expected 8 fields, saw 9\n",
            "\n",
            "  books = pd.read_csv(book_path, encoding='latin1', sep=';', on_bad_lines='warn')\n",
            "/tmp/ipython-input-3-3787633605.py:1: DtypeWarning: Columns (3) have mixed types. Specify dtype option on import or set low_memory=False.\n",
            "  books = pd.read_csv(book_path, encoding='latin1', sep=';', on_bad_lines='warn')\n"
          ]
        }
      ]
    },
    {
      "cell_type": "markdown",
      "source": [
        "⚠️ Peringatan dan Penanganannya\n",
        "Selama proses pembacaan dataset, muncul beberapa peringatan (warnings) sebagai berikut:\n",
        "\n",
        "- ParserWarning: Terjadi karena beberapa baris pada file books.csv memiliki jumlah kolom yang tidak sesuai dengan header (misalnya seharusnya 8 kolom, tapi ditemukan 9 atau lebih). Hal ini bisa disebabkan oleh adanya tanda pemisah (delimiter ;) tambahan di dalam teks judul atau nama penerbit buku.\n",
        "\n",
        "Contoh pesan:\n",
        "\n",
        "```\n",
        "Skipping line 6452: expected 8 fields, saw 9\n",
        "```\n",
        "\n",
        "Untuk menghindari error, digunakan parameter on_bad_lines='warn' agar baris yang bermasalah dilewati, namun tetap memberikan peringatan.\n",
        "\n",
        "- DtypeWarning: Kolom Year-Of-Publication terdeteksi memiliki tipe data campuran, misalnya angka dan teks (seperti 'unknown'). Hal ini dapat menyebabkan pandas kesulitan menetapkan tipe data yang konsisten."
      ],
      "metadata": {
        "id": "McreAGg9g4Pw"
      }
    },
    {
      "cell_type": "markdown",
      "source": [
        "### **🔍 Mengecek Struktur Kolom Data**\n",
        "\n",
        "Untuk memahami struktur masing-masing dataset, digunakan fungsi `DataFrame.info()` pada ketiga dataset utama, yaitu `books`, `user`, dan `rating`.\n",
        "\n",
        "- **`books.info()`** digunakan untuk melihat informasi struktur dataset buku. Hasilnya menunjukkan jumlah entri (baris), nama kolom, jumlah data non-null per kolom, tipe data masing-masing kolom, serta penggunaan memori. Informasi ini penting untuk mengetahui apakah terdapat kolom dengan data yang hilang atau tidak lengkap.\n",
        "\n",
        "- **`user.info()`** memberikan gambaran tentang struktur data pengguna. Dari hasilnya terlihat bahwa kolom `Age` memiliki nilai null (kosong) cukup banyak, menunjukkan bahwa sebagian besar pengguna tidak mencantumkan usia. Hal ini penting untuk diperhatikan dalam tahap pembersihan data.\n",
        "\n",
        "- **`rating.info()`** menampilkan informasi tentang data penilaian pengguna terhadap buku. Dataset ini biasanya terdiri dari kolom `User-ID`, `ISBN`, dan `Book-Rating`. Melalui fungsi ini, kita bisa memastikan tidak ada kolom yang hilang dan format data sudah sesuai.\n",
        "\n",
        "Secara keseluruhan, fungsi `.info()` membantu mengidentifikasi kualitas dan kesiapan data sebelum dilakukan analisis lebih lanjut atau pelatihan model.\n"
      ],
      "metadata": {
        "id": "i-UEWZhNjr8b"
      }
    },
    {
      "cell_type": "markdown",
      "source": [
        "✅ books.info()"
      ],
      "metadata": {
        "id": "qEH98snolYyN"
      }
    },
    {
      "cell_type": "code",
      "source": [
        "books.info()"
      ],
      "metadata": {
        "colab": {
          "base_uri": "https://localhost:8080/"
        },
        "id": "sbNTSDDOleg4",
        "outputId": "63dff827-75e1-47ba-f725-af4c100d11db"
      },
      "execution_count": 4,
      "outputs": [
        {
          "output_type": "stream",
          "name": "stdout",
          "text": [
            "<class 'pandas.core.frame.DataFrame'>\n",
            "RangeIndex: 271360 entries, 0 to 271359\n",
            "Data columns (total 8 columns):\n",
            " #   Column               Non-Null Count   Dtype \n",
            "---  ------               --------------   ----- \n",
            " 0   ISBN                 271360 non-null  object\n",
            " 1   Book-Title           271360 non-null  object\n",
            " 2   Book-Author          271358 non-null  object\n",
            " 3   Year-Of-Publication  271360 non-null  object\n",
            " 4   Publisher            271358 non-null  object\n",
            " 5   Image-URL-S          271360 non-null  object\n",
            " 6   Image-URL-M          271360 non-null  object\n",
            " 7   Image-URL-L          271357 non-null  object\n",
            "dtypes: object(8)\n",
            "memory usage: 16.6+ MB\n"
          ]
        }
      ]
    },
    {
      "cell_type": "markdown",
      "source": [
        "📌 Penjelasan:\n",
        "\n",
        "- Dataset books memiliki 271.360 baris dan 8 kolom.\n",
        "\n",
        "- Hampir semua kolom terisi penuh, namun ada sedikit nilai kosong di kolom Book-Author dan Publisher.\n",
        "\n",
        "- Semua kolom bertipe object (teks), termasuk Year-Of-Publication yang seharusnya bertipe numerik, sehingga perlu diperiksa atau dikonversi."
      ],
      "metadata": {
        "id": "XzK2iK7Qlgls"
      }
    },
    {
      "cell_type": "markdown",
      "source": [
        "✅ user.info()"
      ],
      "metadata": {
        "id": "z_1kb0wslV8g"
      }
    },
    {
      "cell_type": "code",
      "source": [
        "user.info()"
      ],
      "metadata": {
        "colab": {
          "base_uri": "https://localhost:8080/"
        },
        "id": "Geu1LR9ajOvd",
        "outputId": "25e2a2e5-17c7-4650-ad20-ad8f51b45ee7"
      },
      "execution_count": 5,
      "outputs": [
        {
          "output_type": "stream",
          "name": "stdout",
          "text": [
            "<class 'pandas.core.frame.DataFrame'>\n",
            "RangeIndex: 278858 entries, 0 to 278857\n",
            "Data columns (total 3 columns):\n",
            " #   Column    Non-Null Count   Dtype  \n",
            "---  ------    --------------   -----  \n",
            " 0   User-ID   278858 non-null  int64  \n",
            " 1   Location  278858 non-null  object \n",
            " 2   Age       168096 non-null  float64\n",
            "dtypes: float64(1), int64(1), object(1)\n",
            "memory usage: 6.4+ MB\n"
          ]
        }
      ]
    },
    {
      "cell_type": "markdown",
      "source": [
        "📌 Penjelasan:\n",
        "\n",
        "- Dataset user memiliki 278.858 baris dan 3 kolom.\n",
        "\n",
        "- Kolom User-ID dan Location lengkap, namun kolom Age memiliki banyak nilai kosong (sekitar 110.000 baris).\n",
        "\n",
        "- Kolom Age bertipe float64, menunjukkan ada kemungkinan data usia tidak bulat atau mengandung nilai tidak valid (seperti 0, NaN, atau usia ekstrem).\n"
      ],
      "metadata": {
        "id": "xANRw-FZkxVq"
      }
    },
    {
      "cell_type": "markdown",
      "source": [
        "✅ rating.info()"
      ],
      "metadata": {
        "id": "SevRM0rrlTW8"
      }
    },
    {
      "cell_type": "code",
      "source": [
        "rating.info()"
      ],
      "metadata": {
        "colab": {
          "base_uri": "https://localhost:8080/"
        },
        "id": "c-jdIYWUkyr1",
        "outputId": "f6744dd3-039d-4f58-9a95-de64d99d63bb"
      },
      "execution_count": 6,
      "outputs": [
        {
          "output_type": "stream",
          "name": "stdout",
          "text": [
            "<class 'pandas.core.frame.DataFrame'>\n",
            "RangeIndex: 1149780 entries, 0 to 1149779\n",
            "Data columns (total 3 columns):\n",
            " #   Column       Non-Null Count    Dtype \n",
            "---  ------       --------------    ----- \n",
            " 0   User-ID      1149780 non-null  int64 \n",
            " 1   ISBN         1149780 non-null  object\n",
            " 2   Book-Rating  1149780 non-null  int64 \n",
            "dtypes: int64(2), object(1)\n",
            "memory usage: 26.3+ MB\n"
          ]
        }
      ]
    },
    {
      "cell_type": "markdown",
      "source": [
        "📌 Penjelasan:\n",
        "\n",
        "- Dataset rating memiliki 1.149.780 baris, menandakan aktivitas penilaian yang sangat besar.\n",
        "\n",
        "- Semua kolom lengkap (tidak ada nilai kosong).\n",
        "\n",
        "- Kolom Book-Rating bertipe integer, dengan nilai rating dari pengguna terhadap buku tertentu."
      ],
      "metadata": {
        "id": "Svm90q5glmfl"
      }
    },
    {
      "cell_type": "markdown",
      "source": [
        "### Membaca jumlah data"
      ],
      "metadata": {
        "id": "MTQUa6sahjee"
      }
    },
    {
      "cell_type": "code",
      "source": [
        "print('Jumlah data buku ', len(books.ISBN.unique()))\n",
        "print('Jumlah data profil pengguna: ', len(user['User-ID'].unique()))\n",
        "print('Jumlah data penilaian yang diberikan pengguna: ', len(rating['User-ID'].unique()))\n",
        "print('Jumlah data penilaian buku: ', len(rating.ISBN.unique()))"
      ],
      "metadata": {
        "colab": {
          "base_uri": "https://localhost:8080/"
        },
        "id": "aB2ws0e0hrsS",
        "outputId": "097caac3-a9eb-45ad-8aef-45efb9cf3ba6"
      },
      "execution_count": 7,
      "outputs": [
        {
          "output_type": "stream",
          "name": "stdout",
          "text": [
            "Jumlah data buku  271360\n",
            "Jumlah data profil pengguna:  278858\n",
            "Jumlah data penilaian yang diberikan pengguna:  105283\n",
            "Jumlah data penilaian buku:  340556\n"
          ]
        }
      ]
    },
    {
      "cell_type": "markdown",
      "source": [
        "📌 Penjelasan:\n",
        "- Jumlah data buku (ISBN) sebanyak 271.360 menandakan jumlah total buku unik dalam dataset books.\n",
        "\n",
        "- Jumlah profil pengguna (User-ID) sebanyak 278.858 menunjukkan banyaknya pengguna yang terdaftar, meskipun tidak semuanya memberikan rating.\n",
        "\n",
        "- Jumlah pengguna yang memberikan penilaian sebanyak 105.283, artinya hanya sebagian pengguna yang aktif memberikan rating terhadap buku.\n",
        "\n",
        "- Jumlah buku yang dinilai (ISBN dalam dataset rating) sebanyak 340.556, artinya jumlah kombinasi penilaian terhadap buku lebih besar dari jumlah buku yang tercatat di dataset books.\n",
        "\n",
        "  Hal ini bisa disebabkan oleh:\n",
        "  - Adanya buku-buku yang hanya muncul di `ratings.csv` namun tidak tersedia di `books.csv`.\n",
        "  - Duplikasi `ISBN` pada buku yang sama dengan format atau versi berbeda.\n",
        "  - Kesalahan input data dari pengguna (misalnya salah ketik ISBN)."
      ],
      "metadata": {
        "id": "D4zrnNhamAv3"
      }
    },
    {
      "cell_type": "markdown",
      "source": [
        "## **Univariate Exploratory Data Analysis** & **Data Preprocessing**"
      ],
      "metadata": {
        "id": "_jW9YDMKmta9"
      }
    },
    {
      "cell_type": "markdown",
      "source": [
        "### 👤 **Users DataFrame**"
      ],
      "metadata": {
        "id": "1OoJsZJaoeAO"
      }
    },
    {
      "cell_type": "markdown",
      "source": [
        "#### 1. Menangani Nilai Kosong pada Kolom `Age`\n",
        "\n",
        "Salah satu variabel penting dalam data pengguna (`users.csv`) adalah `Age`. Namun, kolom ini memiliki banyak nilai kosong dan outlier. Maka dari itu, kita perlu melakukan pembersihan data dengan tahapan sebagai berikut:\n",
        "\n",
        "- Menampilkan nilai unik pada kolom `Age`.\n",
        "- Mengidentifikasi nilai yang tidak logis, seperti usia di bawah 5 atau di atas 90 tahun.\n",
        "- Mengganti nilai-nilai tersebut menjadi `NaN`.\n",
        "- Mengisi nilai `NaN` dengan rata-rata usia.\n",
        "- Mengubah tipe data kolom `Age` ke `int`.\n",
        "\n",
        "Langkah-langkah ini bertujuan untuk memastikan kualitas data lebih baik sebelum digunakan dalam proses pemodelan."
      ],
      "metadata": {
        "id": "NDrUmATyoioV"
      }
    },
    {
      "cell_type": "code",
      "source": [
        "# Cek nilai unik dari kolom Age\n",
        "print(\"Nilai unik Age (sebelum dibersihkan):\")\n",
        "print(sorted(user['Age'].unique()))\n",
        "\n",
        "# Cek jumlah baris total\n",
        "print(\"Jumlah baris total:\", len(user))\n",
        "\n",
        "# Cek jumlah NaN awal\n",
        "print(\"Jumlah nilai kosong (NaN) pada kolom Age sebelum pembersihan:\", user['Age'].isna().sum())"
      ],
      "metadata": {
        "colab": {
          "base_uri": "https://localhost:8080/"
        },
        "id": "BqVR2AnHiUb0",
        "outputId": "295e70eb-9bfc-4e9f-c6e8-df93867a9632"
      },
      "execution_count": 8,
      "outputs": [
        {
          "output_type": "stream",
          "name": "stdout",
          "text": [
            "Nilai unik Age (sebelum dibersihkan):\n",
            "[np.float64(nan), np.float64(0.0), np.float64(1.0), np.float64(2.0), np.float64(3.0), np.float64(4.0), np.float64(5.0), np.float64(6.0), np.float64(7.0), np.float64(8.0), np.float64(9.0), np.float64(10.0), np.float64(11.0), np.float64(12.0), np.float64(13.0), np.float64(14.0), np.float64(15.0), np.float64(16.0), np.float64(17.0), np.float64(18.0), np.float64(19.0), np.float64(20.0), np.float64(21.0), np.float64(22.0), np.float64(23.0), np.float64(24.0), np.float64(25.0), np.float64(26.0), np.float64(27.0), np.float64(28.0), np.float64(29.0), np.float64(30.0), np.float64(31.0), np.float64(32.0), np.float64(33.0), np.float64(34.0), np.float64(35.0), np.float64(36.0), np.float64(37.0), np.float64(38.0), np.float64(39.0), np.float64(40.0), np.float64(41.0), np.float64(42.0), np.float64(43.0), np.float64(44.0), np.float64(45.0), np.float64(46.0), np.float64(47.0), np.float64(48.0), np.float64(49.0), np.float64(50.0), np.float64(51.0), np.float64(52.0), np.float64(53.0), np.float64(54.0), np.float64(55.0), np.float64(56.0), np.float64(57.0), np.float64(58.0), np.float64(59.0), np.float64(60.0), np.float64(61.0), np.float64(62.0), np.float64(63.0), np.float64(64.0), np.float64(65.0), np.float64(66.0), np.float64(67.0), np.float64(68.0), np.float64(69.0), np.float64(70.0), np.float64(71.0), np.float64(72.0), np.float64(73.0), np.float64(74.0), np.float64(75.0), np.float64(76.0), np.float64(77.0), np.float64(78.0), np.float64(79.0), np.float64(80.0), np.float64(81.0), np.float64(82.0), np.float64(83.0), np.float64(84.0), np.float64(85.0), np.float64(86.0), np.float64(87.0), np.float64(88.0), np.float64(89.0), np.float64(90.0), np.float64(91.0), np.float64(92.0), np.float64(93.0), np.float64(94.0), np.float64(95.0), np.float64(96.0), np.float64(97.0), np.float64(98.0), np.float64(99.0), np.float64(100.0), np.float64(101.0), np.float64(102.0), np.float64(103.0), np.float64(104.0), np.float64(105.0), np.float64(106.0), np.float64(107.0), np.float64(108.0), np.float64(109.0), np.float64(110.0), np.float64(111.0), np.float64(113.0), np.float64(114.0), np.float64(115.0), np.float64(116.0), np.float64(118.0), np.float64(119.0), np.float64(123.0), np.float64(124.0), np.float64(127.0), np.float64(128.0), np.float64(132.0), np.float64(133.0), np.float64(136.0), np.float64(137.0), np.float64(138.0), np.float64(140.0), np.float64(141.0), np.float64(143.0), np.float64(146.0), np.float64(147.0), np.float64(148.0), np.float64(151.0), np.float64(152.0), np.float64(156.0), np.float64(157.0), np.float64(159.0), np.float64(162.0), np.float64(168.0), np.float64(172.0), np.float64(175.0), np.float64(183.0), np.float64(186.0), np.float64(189.0), np.float64(199.0), np.float64(200.0), np.float64(201.0), np.float64(204.0), np.float64(207.0), np.float64(208.0), np.float64(209.0), np.float64(210.0), np.float64(212.0), np.float64(219.0), np.float64(220.0), np.float64(223.0), np.float64(226.0), np.float64(228.0), np.float64(229.0), np.float64(230.0), np.float64(231.0), np.float64(237.0), np.float64(239.0), np.float64(244.0)]\n",
            "Jumlah baris total: 278858\n",
            "Jumlah nilai kosong (NaN) pada kolom Age sebelum pembersihan: 110762\n"
          ]
        }
      ]
    },
    {
      "cell_type": "markdown",
      "source": [
        "### ⚠️ Mengganti Nilai Usia yang Tidak Realistis\n",
        "\n",
        "Beberapa data pada kolom `Age` berisi nilai ekstrem, seperti di bawah 5 tahun atau di atas 90 tahun, yang dianggap tidak realistis. Oleh karena itu, kita ubah nilai tersebut menjadi `NaN` agar dapat ditangani dengan teknik imputasi."
      ],
      "metadata": {
        "id": "Rzg_mKVBp9vD"
      }
    },
    {
      "cell_type": "code",
      "source": [
        "# Salin DataFrame asli ke versi baru agar tidak mengubah data mentah\n",
        "user_cleaned = user.copy()\n",
        "\n",
        "# Ganti nilai usia yang tidak realistis dengan NaN\n",
        "user_cleaned.loc[(user_cleaned['Age'] < 5) | (user_cleaned['Age'] > 90), 'Age'] = np.nan"
      ],
      "metadata": {
        "id": "PK3BOeYCo8gI"
      },
      "execution_count": 9,
      "outputs": []
    },
    {
      "cell_type": "markdown",
      "source": [
        "### 📊 Menghitung Rata-rata Usia Tanpa Outlier\n",
        "\n",
        "Setelah mengganti nilai tidak realistis dengan `NaN`, kita hitung rata-rata dari kolom `Age` untuk digunakan pada proses imputasi (pengisian nilai kosong)."
      ],
      "metadata": {
        "id": "EZZn63xLq8of"
      }
    },
    {
      "cell_type": "code",
      "source": [
        "# Hitung rata-rata usia (tanpa outlier)\n",
        "mean_age = user_cleaned['Age'].mean()\n",
        "print(\"Rata-rata usia (tanpa outlier):\", mean_age)"
      ],
      "metadata": {
        "colab": {
          "base_uri": "https://localhost:8080/"
        },
        "id": "_1LWV5_KpV4a",
        "outputId": "8cc06dfe-89d1-4713-abd1-dbfdc78a9f3d"
      },
      "execution_count": 10,
      "outputs": [
        {
          "output_type": "stream",
          "name": "stdout",
          "text": [
            "Rata-rata usia (tanpa outlier): 34.72384041634689\n"
          ]
        }
      ]
    },
    {
      "cell_type": "markdown",
      "source": [
        "### 🔧 Imputasi Nilai Kosong dengan Rata-rata\n",
        "\n",
        "Nilai `NaN` pada kolom `Age` diisi (imputasi) menggunakan nilai rata-rata usia yang telah dihitung sebelumnya. Ini adalah metode umum dalam menangani data numerik yang hilang"
      ],
      "metadata": {
        "id": "pwxAVeVsrD-O"
      }
    },
    {
      "cell_type": "code",
      "source": [
        "# Imputasi nilai NaN dengan mean\n",
        "user_cleaned['Age'].fillna(mean_age, inplace=True)"
      ],
      "metadata": {
        "colab": {
          "base_uri": "https://localhost:8080/"
        },
        "id": "EfJAvAM3rK7f",
        "outputId": "b5959250-3c24-4965-b678-a7ab4ed2d2de"
      },
      "execution_count": 11,
      "outputs": [
        {
          "output_type": "stream",
          "name": "stderr",
          "text": [
            "/tmp/ipython-input-11-2217771531.py:2: FutureWarning: A value is trying to be set on a copy of a DataFrame or Series through chained assignment using an inplace method.\n",
            "The behavior will change in pandas 3.0. This inplace method will never work because the intermediate object on which we are setting values always behaves as a copy.\n",
            "\n",
            "For example, when doing 'df[col].method(value, inplace=True)', try using 'df.method({col: value}, inplace=True)' or df[col] = df[col].method(value) instead, to perform the operation inplace on the original object.\n",
            "\n",
            "\n",
            "  user_cleaned['Age'].fillna(mean_age, inplace=True)\n"
          ]
        }
      ]
    },
    {
      "cell_type": "markdown",
      "source": [
        "### 🔢 Mengubah Tipe Data ke Integer\n",
        "\n",
        "Setelah nilai usia dibersihkan dan tidak lagi mengandung nilai kosong, kita ubah tipe data dari float ke integer (`int`). Hal ini dilakukan agar kolom `Age` lebih sesuai untuk interpretasi dan efisien dalam penyimpanan memori.\n"
      ],
      "metadata": {
        "id": "iOZem7murQAh"
      }
    },
    {
      "cell_type": "code",
      "source": [
        "# Ubah tipe data Age ke integer\n",
        "user_cleaned['Age'] = user_cleaned['Age'].astype(int)\n",
        "\n",
        "# Tampilkan nilai unik setelah dibersihkan\n",
        "print(\"Nilai unik Age (setelah dibersihkan):\")\n",
        "print(sorted(user_cleaned['Age'].unique()))"
      ],
      "metadata": {
        "colab": {
          "base_uri": "https://localhost:8080/"
        },
        "id": "MQngVXv2pZPZ",
        "outputId": "6c6d729c-6aa1-48eb-ad68-f88e558e4000"
      },
      "execution_count": 12,
      "outputs": [
        {
          "output_type": "stream",
          "name": "stdout",
          "text": [
            "Nilai unik Age (setelah dibersihkan):\n",
            "[np.int64(5), np.int64(6), np.int64(7), np.int64(8), np.int64(9), np.int64(10), np.int64(11), np.int64(12), np.int64(13), np.int64(14), np.int64(15), np.int64(16), np.int64(17), np.int64(18), np.int64(19), np.int64(20), np.int64(21), np.int64(22), np.int64(23), np.int64(24), np.int64(25), np.int64(26), np.int64(27), np.int64(28), np.int64(29), np.int64(30), np.int64(31), np.int64(32), np.int64(33), np.int64(34), np.int64(35), np.int64(36), np.int64(37), np.int64(38), np.int64(39), np.int64(40), np.int64(41), np.int64(42), np.int64(43), np.int64(44), np.int64(45), np.int64(46), np.int64(47), np.int64(48), np.int64(49), np.int64(50), np.int64(51), np.int64(52), np.int64(53), np.int64(54), np.int64(55), np.int64(56), np.int64(57), np.int64(58), np.int64(59), np.int64(60), np.int64(61), np.int64(62), np.int64(63), np.int64(64), np.int64(65), np.int64(66), np.int64(67), np.int64(68), np.int64(69), np.int64(70), np.int64(71), np.int64(72), np.int64(73), np.int64(74), np.int64(75), np.int64(76), np.int64(77), np.int64(78), np.int64(79), np.int64(80), np.int64(81), np.int64(82), np.int64(83), np.int64(84), np.int64(85), np.int64(86), np.int64(87), np.int64(88), np.int64(89), np.int64(90)]\n"
          ]
        }
      ]
    },
    {
      "cell_type": "code",
      "source": [
        "user_cleaned.info()"
      ],
      "metadata": {
        "colab": {
          "base_uri": "https://localhost:8080/"
        },
        "id": "7R7bQSZprUH3",
        "outputId": "2839d7f5-cc6d-48c7-f557-36837d0d48b1"
      },
      "execution_count": 13,
      "outputs": [
        {
          "output_type": "stream",
          "name": "stdout",
          "text": [
            "<class 'pandas.core.frame.DataFrame'>\n",
            "RangeIndex: 278858 entries, 0 to 278857\n",
            "Data columns (total 3 columns):\n",
            " #   Column    Non-Null Count   Dtype \n",
            "---  ------    --------------   ----- \n",
            " 0   User-ID   278858 non-null  int64 \n",
            " 1   Location  278858 non-null  object\n",
            " 2   Age       278858 non-null  int64 \n",
            "dtypes: int64(2), object(1)\n",
            "memory usage: 6.4+ MB\n"
          ]
        }
      ]
    },
    {
      "cell_type": "markdown",
      "source": [
        "Data user sekarang sudah bersih"
      ],
      "metadata": {
        "id": "HMoTxb7drZIk"
      }
    },
    {
      "cell_type": "markdown",
      "source": [
        "### 📚 **Books DataFrame**"
      ],
      "metadata": {
        "id": "RAHBfmQ0r-zH"
      }
    },
    {
      "cell_type": "code",
      "source": [
        "books.info()"
      ],
      "metadata": {
        "colab": {
          "base_uri": "https://localhost:8080/"
        },
        "id": "cpqVF4o0sTLo",
        "outputId": "5245ba2a-e951-40fd-a128-b270a3683616"
      },
      "execution_count": 14,
      "outputs": [
        {
          "output_type": "stream",
          "name": "stdout",
          "text": [
            "<class 'pandas.core.frame.DataFrame'>\n",
            "RangeIndex: 271360 entries, 0 to 271359\n",
            "Data columns (total 8 columns):\n",
            " #   Column               Non-Null Count   Dtype \n",
            "---  ------               --------------   ----- \n",
            " 0   ISBN                 271360 non-null  object\n",
            " 1   Book-Title           271360 non-null  object\n",
            " 2   Book-Author          271358 non-null  object\n",
            " 3   Year-Of-Publication  271360 non-null  object\n",
            " 4   Publisher            271358 non-null  object\n",
            " 5   Image-URL-S          271360 non-null  object\n",
            " 6   Image-URL-M          271360 non-null  object\n",
            " 7   Image-URL-L          271357 non-null  object\n",
            "dtypes: object(8)\n",
            "memory usage: 16.6+ MB\n"
          ]
        }
      ]
    },
    {
      "cell_type": "markdown",
      "source": [
        "#### **Cek Nilai Kosong**"
      ],
      "metadata": {
        "id": "kt3H8EgmthWC"
      }
    },
    {
      "cell_type": "code",
      "source": [
        "# Cek jumlah nilai kosong di setiap kolom\n",
        "books.isnull().sum()"
      ],
      "metadata": {
        "colab": {
          "base_uri": "https://localhost:8080/",
          "height": 335
        },
        "id": "WDROYNpKtgfH",
        "outputId": "bc2ea274-5e6f-41e5-f1de-47005f810b1e"
      },
      "execution_count": 15,
      "outputs": [
        {
          "output_type": "execute_result",
          "data": {
            "text/plain": [
              "ISBN                   0\n",
              "Book-Title             0\n",
              "Book-Author            2\n",
              "Year-Of-Publication    0\n",
              "Publisher              2\n",
              "Image-URL-S            0\n",
              "Image-URL-M            0\n",
              "Image-URL-L            3\n",
              "dtype: int64"
            ],
            "text/html": [
              "<div>\n",
              "<style scoped>\n",
              "    .dataframe tbody tr th:only-of-type {\n",
              "        vertical-align: middle;\n",
              "    }\n",
              "\n",
              "    .dataframe tbody tr th {\n",
              "        vertical-align: top;\n",
              "    }\n",
              "\n",
              "    .dataframe thead th {\n",
              "        text-align: right;\n",
              "    }\n",
              "</style>\n",
              "<table border=\"1\" class=\"dataframe\">\n",
              "  <thead>\n",
              "    <tr style=\"text-align: right;\">\n",
              "      <th></th>\n",
              "      <th>0</th>\n",
              "    </tr>\n",
              "  </thead>\n",
              "  <tbody>\n",
              "    <tr>\n",
              "      <th>ISBN</th>\n",
              "      <td>0</td>\n",
              "    </tr>\n",
              "    <tr>\n",
              "      <th>Book-Title</th>\n",
              "      <td>0</td>\n",
              "    </tr>\n",
              "    <tr>\n",
              "      <th>Book-Author</th>\n",
              "      <td>2</td>\n",
              "    </tr>\n",
              "    <tr>\n",
              "      <th>Year-Of-Publication</th>\n",
              "      <td>0</td>\n",
              "    </tr>\n",
              "    <tr>\n",
              "      <th>Publisher</th>\n",
              "      <td>2</td>\n",
              "    </tr>\n",
              "    <tr>\n",
              "      <th>Image-URL-S</th>\n",
              "      <td>0</td>\n",
              "    </tr>\n",
              "    <tr>\n",
              "      <th>Image-URL-M</th>\n",
              "      <td>0</td>\n",
              "    </tr>\n",
              "    <tr>\n",
              "      <th>Image-URL-L</th>\n",
              "      <td>3</td>\n",
              "    </tr>\n",
              "  </tbody>\n",
              "</table>\n",
              "</div><br><label><b>dtype:</b> int64</label>"
            ]
          },
          "metadata": {},
          "execution_count": 15
        }
      ]
    },
    {
      "cell_type": "code",
      "source": [
        "# Salin DataFrame agar data mentah tidak berubah\n",
        "books_cleaned = books.copy()"
      ],
      "metadata": {
        "id": "35_JfALTuImm"
      },
      "execution_count": 16,
      "outputs": []
    },
    {
      "cell_type": "markdown",
      "source": [
        "Kolom `Image-URL-S`, `Image-URL-M`, dan `Image-URL-L` berisi URL gambar buku yang tidak digunakan dalam proses analisis atau rekomendasi, sehingga dapat dihapus untuk mengurangi kompleksitas data."
      ],
      "metadata": {
        "id": "4WWtw0siulBh"
      }
    },
    {
      "cell_type": "code",
      "source": [
        "# Drop kolom gambar karena tidak digunakan dalam sistem rekomendasi\n",
        "books_cleaned.drop(['Image-URL-S', 'Image-URL-M', 'Image-URL-L'], axis=1, inplace=True)"
      ],
      "metadata": {
        "id": "qSZfdTCDuLT1"
      },
      "execution_count": 17,
      "outputs": []
    },
    {
      "cell_type": "markdown",
      "source": [
        "Selanjutnya mengecek kolom `Book-Author` yang mempunyai *missing value*"
      ],
      "metadata": {
        "id": "bQ_1YY2CvwBB"
      }
    },
    {
      "cell_type": "code",
      "source": [
        "# 🔍 Cek baris dengan Book-Author yang kosong\n",
        "missing_authors = books_cleaned[books_cleaned['Book-Author'].isnull()]\n",
        "print(\"Baris dengan Book-Author kosong:\")\n",
        "print(missing_authors)"
      ],
      "metadata": {
        "colab": {
          "base_uri": "https://localhost:8080/"
        },
        "id": "DdVhVEVIupMc",
        "outputId": "0e14cca9-c3f6-4edc-8df1-1803378903f8"
      },
      "execution_count": 18,
      "outputs": [
        {
          "output_type": "stream",
          "name": "stdout",
          "text": [
            "Baris dengan Book-Author kosong:\n",
            "              ISBN                                         Book-Title  \\\n",
            "118033  0751352497                           A+ Quiz Masters:01 Earth   \n",
            "187689  9627982032  The Credit Suisse Guide to Managing Your Perso...   \n",
            "\n",
            "       Book-Author Year-Of-Publication                       Publisher  \n",
            "118033         NaN                1999              Dorling Kindersley  \n",
            "187689         NaN                1995  Edinburgh Financial Publishing  \n"
          ]
        }
      ]
    },
    {
      "cell_type": "markdown",
      "source": [
        "Mengisi `Book-Author` yang kosong dengan mencari baris lain yang memiliki ISBN yang sama jika tidak ditemukan mencari data dari Amazon. Jika tidak ditemukan juga, nilai diisi dengan `'Unknown'`."
      ],
      "metadata": {
        "id": "8MqjkNeOzfwk"
      }
    },
    {
      "cell_type": "code",
      "source": [
        "# ✍️ Isi nilai kosong berdasarkan ISBN (jika ISBN sama dengan baris lain)\n",
        "for idx in missing_authors.index:\n",
        "    isbn = books_cleaned.loc[idx, 'ISBN']\n",
        "\n",
        "    # Cari baris lain dengan ISBN sama dan author tidak kosong\n",
        "    same_isbn = books_cleaned[(books_cleaned['ISBN'] == isbn) & (books_cleaned['Book-Author'].notnull())]\n",
        "\n",
        "    if not same_isbn.empty:\n",
        "        books_cleaned.loc[idx, 'Book-Author'] = same_isbn.iloc[0]['Book-Author']\n",
        "    else:\n",
        "        books_cleaned.loc[idx, 'Book-Author'] = 'Unknown'"
      ],
      "metadata": {
        "id": "RCgZql81vOpw"
      },
      "execution_count": 19,
      "outputs": []
    },
    {
      "cell_type": "code",
      "source": [
        "# ✅ Cek ulang apakah masih ada Publisher yang kosong\n",
        "books_cleaned['Book-Author'].isnull().sum()"
      ],
      "metadata": {
        "colab": {
          "base_uri": "https://localhost:8080/"
        },
        "id": "2EfkNd0g3h4B",
        "outputId": "adae71c8-374a-4968-9998-022fa62863da"
      },
      "execution_count": 23,
      "outputs": [
        {
          "output_type": "execute_result",
          "data": {
            "text/plain": [
              "np.int64(0)"
            ]
          },
          "metadata": {},
          "execution_count": 23
        }
      ]
    },
    {
      "cell_type": "markdown",
      "source": [
        "Kolom `Publisher`"
      ],
      "metadata": {
        "id": "8vkwS6rb0gk-"
      }
    },
    {
      "cell_type": "code",
      "source": [
        "# 🔍 Cek baris dengan Publisher yang kosong\n",
        "missing_publisher = books_cleaned[books_cleaned['Publisher'].isnull()]\n",
        "print(\"Baris dengan Publisher kosong:\")\n",
        "print(missing_publisher)"
      ],
      "metadata": {
        "colab": {
          "base_uri": "https://localhost:8080/"
        },
        "id": "4FJyklzz0faJ",
        "outputId": "8060aa8e-5678-4326-93ee-155e0ab0fbdc"
      },
      "execution_count": 20,
      "outputs": [
        {
          "output_type": "stream",
          "name": "stdout",
          "text": [
            "Baris dengan Publisher kosong:\n",
            "              ISBN       Book-Title      Book-Author Year-Of-Publication  \\\n",
            "128890  193169656X      Tyrant Moon  Elaine Corvidae                2002   \n",
            "129037  1931696993  Finders Keepers  Linnea Sinclair                2001   \n",
            "\n",
            "       Publisher  \n",
            "128890       NaN  \n",
            "129037       NaN  \n"
          ]
        }
      ]
    },
    {
      "cell_type": "markdown",
      "source": [
        "Mengisi kolom `Publisher`, dengan mencari data dari Amazon.\n",
        "\n",
        "Dari hasilnya, diketahui bahwa terdapat dua ISBN yaitu:\n",
        "- `193169656X` → Penerbit: **NovelBooks, Inc.**\n",
        "- `1931696993` → Penerbit: **CreateSpace Independent Publishing Platform**"
      ],
      "metadata": {
        "id": "RJbIAIRKz2Q-"
      }
    },
    {
      "cell_type": "code",
      "source": [
        "# ✍️ Isi data Publisher berdasarkan ISBN hasil pencarian manual (misal dari Amazon)\n",
        "books_cleaned.loc[books_cleaned['ISBN'] == '193169656X', 'Publisher'] = 'NovelBooks, Inc.'\n",
        "books_cleaned.loc[books_cleaned['ISBN'] == '1931696993', 'Publisher'] = 'CreateSpace Independent Publishing Platform'"
      ],
      "metadata": {
        "id": "B0SuPv7f112r"
      },
      "execution_count": 21,
      "outputs": []
    },
    {
      "cell_type": "markdown",
      "source": [
        "Kedua baris tersebut diisi secara manual berdasarkan hasil pencarian ISBN dari situs eksternal (seperti Amazon). Kita gunakan metode `.loc[]` untuk menyasar ISBN tertentu dan mengisi kolom `Publisher` yang kosong dengan data yang benar."
      ],
      "metadata": {
        "id": "Xc0wDui91yO0"
      }
    },
    {
      "cell_type": "markdown",
      "source": [
        "Mengecek kembali data Publisher yang kosong"
      ],
      "metadata": {
        "id": "5e4YWQji3ZnS"
      }
    },
    {
      "cell_type": "code",
      "source": [
        "# ✅ Cek ulang apakah masih ada Publisher yang kosong\n",
        "books_cleaned['Publisher'].isnull().sum()"
      ],
      "metadata": {
        "id": "CXmVAW-hwU4i",
        "colab": {
          "base_uri": "https://localhost:8080/"
        },
        "outputId": "58b7e4bc-0ff2-4427-fa2f-5d01e9fa4232"
      },
      "execution_count": 22,
      "outputs": [
        {
          "output_type": "execute_result",
          "data": {
            "text/plain": [
              "np.int64(0)"
            ]
          },
          "metadata": {},
          "execution_count": 22
        }
      ]
    },
    {
      "cell_type": "markdown",
      "source": [
        "### **Cek kembali nilai yang kosong**"
      ],
      "metadata": {
        "id": "l0zeAGzv3qZX"
      }
    },
    {
      "cell_type": "code",
      "source": [
        "# Cek jumlah nilai kosong di setiap kolom\n",
        "books_cleaned.isnull().sum()"
      ],
      "metadata": {
        "colab": {
          "base_uri": "https://localhost:8080/",
          "height": 241
        },
        "id": "5Ckume5a3vp5",
        "outputId": "0f927228-6d53-41ff-9695-8600b1eb7e04"
      },
      "execution_count": 25,
      "outputs": [
        {
          "output_type": "execute_result",
          "data": {
            "text/plain": [
              "ISBN                   0\n",
              "Book-Title             0\n",
              "Book-Author            0\n",
              "Year-Of-Publication    0\n",
              "Publisher              0\n",
              "dtype: int64"
            ],
            "text/html": [
              "<div>\n",
              "<style scoped>\n",
              "    .dataframe tbody tr th:only-of-type {\n",
              "        vertical-align: middle;\n",
              "    }\n",
              "\n",
              "    .dataframe tbody tr th {\n",
              "        vertical-align: top;\n",
              "    }\n",
              "\n",
              "    .dataframe thead th {\n",
              "        text-align: right;\n",
              "    }\n",
              "</style>\n",
              "<table border=\"1\" class=\"dataframe\">\n",
              "  <thead>\n",
              "    <tr style=\"text-align: right;\">\n",
              "      <th></th>\n",
              "      <th>0</th>\n",
              "    </tr>\n",
              "  </thead>\n",
              "  <tbody>\n",
              "    <tr>\n",
              "      <th>ISBN</th>\n",
              "      <td>0</td>\n",
              "    </tr>\n",
              "    <tr>\n",
              "      <th>Book-Title</th>\n",
              "      <td>0</td>\n",
              "    </tr>\n",
              "    <tr>\n",
              "      <th>Book-Author</th>\n",
              "      <td>0</td>\n",
              "    </tr>\n",
              "    <tr>\n",
              "      <th>Year-Of-Publication</th>\n",
              "      <td>0</td>\n",
              "    </tr>\n",
              "    <tr>\n",
              "      <th>Publisher</th>\n",
              "      <td>0</td>\n",
              "    </tr>\n",
              "  </tbody>\n",
              "</table>\n",
              "</div><br><label><b>dtype:</b> int64</label>"
            ]
          },
          "metadata": {},
          "execution_count": 25
        }
      ]
    },
    {
      "cell_type": "markdown",
      "source": [
        "### **📅 Pembersihan Kolom Year-Of-Publication**"
      ],
      "metadata": {
        "id": "dLugZi824Ml3"
      }
    },
    {
      "cell_type": "code",
      "source": [
        "books_cleaned.info()"
      ],
      "metadata": {
        "colab": {
          "base_uri": "https://localhost:8080/"
        },
        "id": "OYhZjqsu33qr",
        "outputId": "48e20a2b-48d7-49bf-f4a2-284496f9ad7f"
      },
      "execution_count": 26,
      "outputs": [
        {
          "output_type": "stream",
          "name": "stdout",
          "text": [
            "<class 'pandas.core.frame.DataFrame'>\n",
            "RangeIndex: 271360 entries, 0 to 271359\n",
            "Data columns (total 5 columns):\n",
            " #   Column               Non-Null Count   Dtype \n",
            "---  ------               --------------   ----- \n",
            " 0   ISBN                 271360 non-null  object\n",
            " 1   Book-Title           271360 non-null  object\n",
            " 2   Book-Author          271360 non-null  object\n",
            " 3   Year-Of-Publication  271360 non-null  object\n",
            " 4   Publisher            271360 non-null  object\n",
            "dtypes: object(5)\n",
            "memory usage: 10.4+ MB\n"
          ]
        }
      ]
    },
    {
      "cell_type": "markdown",
      "source": [
        "Kolom `Year-Of-Publication` saat ini masih bertipe `object` (teks), padahal seharusnya berupa angka. Beberapa nilai bahkan mengandung teks seperti nama penerbit. Disini saya akan:\n",
        "\n",
        "1. Menyaring data yang valid (angka).\n",
        "2. Mengubah nilai tahun ke tipe `int`.\n",
        "3. Mengganti nilai tidak valid (misalnya tahun < 1000 atau > 2025) dengan NaN, lalu imputasi menggunakan modus (tahun terbanyak)."
      ],
      "metadata": {
        "id": "A0cmvVPPsOQ0"
      }
    },
    {
      "cell_type": "markdown",
      "source": [
        "### **🔄 Mengubah kolom Year-Of-Publication**"
      ],
      "metadata": {
        "id": "x05vADMZ5JKr"
      }
    },
    {
      "cell_type": "code",
      "source": [
        "# 🔄 Mengubah kolom Year-Of-Publication menjadi tipe data numerik (int), dengan error handling\n",
        "books_cleaned['Year-Of-Publication'] = pd.to_numeric(books_cleaned['Year-Of-Publication'], errors='coerce')"
      ],
      "metadata": {
        "id": "DAtShMqWrXAE"
      },
      "execution_count": 27,
      "outputs": []
    },
    {
      "cell_type": "markdown",
      "source": [
        "Saya menggunakan `pd.to_numeric()` untuk mengubah kolom `Year-Of-Publication` menjadi angka (`int64` atau `float64`).  \n",
        "Parameter `errors='coerce'` akan mengubah data yang tidak bisa dikonversi menjadi `NaN` (contohnya tahun seperti `'DK Publishing Inc'` atau `'Gallimard'` yang kadang muncul karena kesalahan input)."
      ],
      "metadata": {
        "id": "Txh5nUMr48iQ"
      }
    },
    {
      "cell_type": "markdown",
      "source": [
        "### **🔍 Cek nilai unik yang tidak realistis**"
      ],
      "metadata": {
        "id": "QDdYAiIK5F0k"
      }
    },
    {
      "cell_type": "code",
      "source": [
        "# 🔍 Cek nilai unik yang tidak realistis (misalnya sebelum tahun 1000 atau setelah 2025)\n",
        "print(\"Tahun yang tidak realistis:\")\n",
        "print(sorted(books_cleaned['Year-Of-Publication'].unique())[:10])  # Tahun terendah\n",
        "print(sorted(books_cleaned['Year-Of-Publication'].unique())[-10:]) # Tahun tertinggi"
      ],
      "metadata": {
        "id": "r0gLwDuFsvTE",
        "colab": {
          "base_uri": "https://localhost:8080/"
        },
        "outputId": "08f6d4a0-ba5d-4d57-9802-811d44decd80"
      },
      "execution_count": 28,
      "outputs": [
        {
          "output_type": "stream",
          "name": "stdout",
          "text": [
            "Tahun yang tidak realistis:\n",
            "[np.float64(0.0), np.float64(1376.0), np.float64(1378.0), np.float64(1806.0), np.float64(1897.0), np.float64(1900.0), np.float64(1901.0), np.float64(1902.0), np.float64(1904.0), np.float64(1906.0)]\n",
            "[np.float64(2012.0), np.float64(2020.0), np.float64(2021.0), np.float64(2024.0), np.float64(2026.0), np.float64(2030.0), np.float64(2037.0), np.float64(2038.0), np.float64(2050.0), np.float64(nan)]\n"
          ]
        }
      ]
    },
    {
      "cell_type": "markdown",
      "source": [
        "### **🧼 Bersihkan tahun yang tidak valid**"
      ],
      "metadata": {
        "id": "7W4K93yo5TQ0"
      }
    },
    {
      "cell_type": "code",
      "source": [
        "# 🧼 Bersihkan tahun yang tidak valid: set jadi NaN jika < 1000 atau > 2025\n",
        "books_cleaned.loc[(books_cleaned['Year-Of-Publication'] < 1000) | (books_cleaned['Year-Of-Publication'] > 2025), 'Year-Of-Publication'] = np.nan"
      ],
      "metadata": {
        "id": "eZMwuL7x5XRn"
      },
      "execution_count": 29,
      "outputs": []
    },
    {
      "cell_type": "markdown",
      "source": [
        "Tahun terbit buku yang valid umumnya berada antara 1000 dan 2025. Tahun di luar rentang ini dianggap tidak masuk akal dan diubah menjadi `NaN` agar bisa diisi nanti (misalnya dengan median)."
      ],
      "metadata": {
        "id": "0MAFJmue5cs2"
      }
    },
    {
      "cell_type": "markdown",
      "source": [
        "### **🧮 Isi nilai NaN dengan median tahun yang valid**"
      ],
      "metadata": {
        "id": "M5NPNfir5gW2"
      }
    },
    {
      "cell_type": "code",
      "source": [
        "# 🧮 Isi nilai NaN dengan median tahun yang valid\n",
        "median_year = books_cleaned['Year-Of-Publication'].median()\n",
        "books_cleaned['Year-Of-Publication'].fillna(median_year, inplace=True)\n",
        "\n",
        "# Ubah ke integer\n",
        "books_cleaned['Year-Of-Publication'] = books_cleaned['Year-Of-Publication'].astype(int)"
      ],
      "metadata": {
        "colab": {
          "base_uri": "https://localhost:8080/"
        },
        "id": "wTtlxp4Z5dBn",
        "outputId": "644ecbee-7382-48bc-f11b-34ba6862602e"
      },
      "execution_count": 30,
      "outputs": [
        {
          "output_type": "stream",
          "name": "stderr",
          "text": [
            "/tmp/ipython-input-30-2732017224.py:3: FutureWarning: A value is trying to be set on a copy of a DataFrame or Series through chained assignment using an inplace method.\n",
            "The behavior will change in pandas 3.0. This inplace method will never work because the intermediate object on which we are setting values always behaves as a copy.\n",
            "\n",
            "For example, when doing 'df[col].method(value, inplace=True)', try using 'df.method({col: value}, inplace=True)' or df[col] = df[col].method(value) instead, to perform the operation inplace on the original object.\n",
            "\n",
            "\n",
            "  books_cleaned['Year-Of-Publication'].fillna(median_year, inplace=True)\n"
          ]
        }
      ]
    },
    {
      "cell_type": "markdown",
      "source": [
        "Setelah tahun tidak valid diubah menjadi `NaN`, kita isi nilai kosong tersebut dengan **median** agar lebih netral.  \n",
        "Terakhir, kita ubah kolom menjadi integer untuk efisiensi dan konsistensi."
      ],
      "metadata": {
        "id": "-C2-7a0z5n0s"
      }
    },
    {
      "cell_type": "markdown",
      "source": [
        "## Cek Kembali Type Data `Year-Of-Publication`"
      ],
      "metadata": {
        "id": "YqwWJW2n5vgE"
      }
    },
    {
      "cell_type": "code",
      "source": [
        "books_cleaned.info()"
      ],
      "metadata": {
        "colab": {
          "base_uri": "https://localhost:8080/"
        },
        "id": "jhBsOWr25obf",
        "outputId": "9572bba5-7c23-4b9a-af5c-1a5ab5b4114b"
      },
      "execution_count": 31,
      "outputs": [
        {
          "output_type": "stream",
          "name": "stdout",
          "text": [
            "<class 'pandas.core.frame.DataFrame'>\n",
            "RangeIndex: 271360 entries, 0 to 271359\n",
            "Data columns (total 5 columns):\n",
            " #   Column               Non-Null Count   Dtype \n",
            "---  ------               --------------   ----- \n",
            " 0   ISBN                 271360 non-null  object\n",
            " 1   Book-Title           271360 non-null  object\n",
            " 2   Book-Author          271360 non-null  object\n",
            " 3   Year-Of-Publication  271360 non-null  int64 \n",
            " 4   Publisher            271360 non-null  object\n",
            "dtypes: int64(1), object(4)\n",
            "memory usage: 10.4+ MB\n"
          ]
        }
      ]
    },
    {
      "cell_type": "markdown",
      "source": [
        "## **Data Preparation**"
      ],
      "metadata": {
        "id": "5zHeaVg17FL1"
      }
    },
    {
      "cell_type": "markdown",
      "source": [
        "### **Menyatukan Dataset (Merge DataFrame)**"
      ],
      "metadata": {
        "id": "yOKlnzjA7xDm"
      }
    },
    {
      "cell_type": "markdown",
      "source": [
        "Gabungkan ketiga data utama:\n",
        "\n",
        "- ratings.csv\n",
        "\n",
        "- books_cleaned\n",
        "\n",
        "- user_cleaned\n",
        "\n",
        "Tujuannya agar semua informasi yang diperlukan berada dalam satu DataFrame."
      ],
      "metadata": {
        "id": "1l5tWMmT7JgG"
      }
    },
    {
      "cell_type": "code",
      "source": [
        "# Gabungkan rating dengan books\n",
        "ratings_books = pd.merge(rating, books_cleaned, on='ISBN', how='inner')\n",
        "\n",
        "# Gabungkan dengan user\n",
        "data_merged = pd.merge(ratings_books, user_cleaned, on='User-ID', how='inner')\n",
        "\n",
        "# Tampilkan 5 data teratas\n",
        "data_merged.head()"
      ],
      "metadata": {
        "colab": {
          "base_uri": "https://localhost:8080/",
          "height": 206
        },
        "id": "dC05Bnjo5tI_",
        "outputId": "f15b4089-e7ba-476b-846c-1274a79e0eeb"
      },
      "execution_count": 32,
      "outputs": [
        {
          "output_type": "execute_result",
          "data": {
            "text/plain": [
              "   User-ID        ISBN  Book-Rating  \\\n",
              "0   276725  034545104X            0   \n",
              "1   276726  0155061224            5   \n",
              "2   276727  0446520802            0   \n",
              "3   276729  052165615X            3   \n",
              "4   276729  0521795028            6   \n",
              "\n",
              "                                          Book-Title      Book-Author  \\\n",
              "0                               Flesh Tones: A Novel       M. J. Rose   \n",
              "1                                   Rites of Passage       Judith Rae   \n",
              "2                                       The Notebook  Nicholas Sparks   \n",
              "3                                     Help!: Level 1    Philip Prowse   \n",
              "4  The Amsterdam Connection : Level 4 (Cambridge ...      Sue Leather   \n",
              "\n",
              "   Year-Of-Publication                   Publisher  \\\n",
              "0                 2002            Ballantine Books   \n",
              "1                 2001                      Heinle   \n",
              "2                 1996                Warner Books   \n",
              "3                 1999  Cambridge University Press   \n",
              "4                 2001  Cambridge University Press   \n",
              "\n",
              "                        Location  Age  \n",
              "0              tyler, texas, usa   34  \n",
              "1       seattle, washington, usa   34  \n",
              "2  h, new south wales, australia   16  \n",
              "3           rijeka, n/a, croatia   16  \n",
              "4           rijeka, n/a, croatia   16  "
            ],
            "text/html": [
              "\n",
              "  <div id=\"df-d7183dda-cedc-4d19-8cb0-d895d505a065\" class=\"colab-df-container\">\n",
              "    <div>\n",
              "<style scoped>\n",
              "    .dataframe tbody tr th:only-of-type {\n",
              "        vertical-align: middle;\n",
              "    }\n",
              "\n",
              "    .dataframe tbody tr th {\n",
              "        vertical-align: top;\n",
              "    }\n",
              "\n",
              "    .dataframe thead th {\n",
              "        text-align: right;\n",
              "    }\n",
              "</style>\n",
              "<table border=\"1\" class=\"dataframe\">\n",
              "  <thead>\n",
              "    <tr style=\"text-align: right;\">\n",
              "      <th></th>\n",
              "      <th>User-ID</th>\n",
              "      <th>ISBN</th>\n",
              "      <th>Book-Rating</th>\n",
              "      <th>Book-Title</th>\n",
              "      <th>Book-Author</th>\n",
              "      <th>Year-Of-Publication</th>\n",
              "      <th>Publisher</th>\n",
              "      <th>Location</th>\n",
              "      <th>Age</th>\n",
              "    </tr>\n",
              "  </thead>\n",
              "  <tbody>\n",
              "    <tr>\n",
              "      <th>0</th>\n",
              "      <td>276725</td>\n",
              "      <td>034545104X</td>\n",
              "      <td>0</td>\n",
              "      <td>Flesh Tones: A Novel</td>\n",
              "      <td>M. J. Rose</td>\n",
              "      <td>2002</td>\n",
              "      <td>Ballantine Books</td>\n",
              "      <td>tyler, texas, usa</td>\n",
              "      <td>34</td>\n",
              "    </tr>\n",
              "    <tr>\n",
              "      <th>1</th>\n",
              "      <td>276726</td>\n",
              "      <td>0155061224</td>\n",
              "      <td>5</td>\n",
              "      <td>Rites of Passage</td>\n",
              "      <td>Judith Rae</td>\n",
              "      <td>2001</td>\n",
              "      <td>Heinle</td>\n",
              "      <td>seattle, washington, usa</td>\n",
              "      <td>34</td>\n",
              "    </tr>\n",
              "    <tr>\n",
              "      <th>2</th>\n",
              "      <td>276727</td>\n",
              "      <td>0446520802</td>\n",
              "      <td>0</td>\n",
              "      <td>The Notebook</td>\n",
              "      <td>Nicholas Sparks</td>\n",
              "      <td>1996</td>\n",
              "      <td>Warner Books</td>\n",
              "      <td>h, new south wales, australia</td>\n",
              "      <td>16</td>\n",
              "    </tr>\n",
              "    <tr>\n",
              "      <th>3</th>\n",
              "      <td>276729</td>\n",
              "      <td>052165615X</td>\n",
              "      <td>3</td>\n",
              "      <td>Help!: Level 1</td>\n",
              "      <td>Philip Prowse</td>\n",
              "      <td>1999</td>\n",
              "      <td>Cambridge University Press</td>\n",
              "      <td>rijeka, n/a, croatia</td>\n",
              "      <td>16</td>\n",
              "    </tr>\n",
              "    <tr>\n",
              "      <th>4</th>\n",
              "      <td>276729</td>\n",
              "      <td>0521795028</td>\n",
              "      <td>6</td>\n",
              "      <td>The Amsterdam Connection : Level 4 (Cambridge ...</td>\n",
              "      <td>Sue Leather</td>\n",
              "      <td>2001</td>\n",
              "      <td>Cambridge University Press</td>\n",
              "      <td>rijeka, n/a, croatia</td>\n",
              "      <td>16</td>\n",
              "    </tr>\n",
              "  </tbody>\n",
              "</table>\n",
              "</div>\n",
              "    <div class=\"colab-df-buttons\">\n",
              "\n",
              "  <div class=\"colab-df-container\">\n",
              "    <button class=\"colab-df-convert\" onclick=\"convertToInteractive('df-d7183dda-cedc-4d19-8cb0-d895d505a065')\"\n",
              "            title=\"Convert this dataframe to an interactive table.\"\n",
              "            style=\"display:none;\">\n",
              "\n",
              "  <svg xmlns=\"http://www.w3.org/2000/svg\" height=\"24px\" viewBox=\"0 -960 960 960\">\n",
              "    <path d=\"M120-120v-720h720v720H120Zm60-500h600v-160H180v160Zm220 220h160v-160H400v160Zm0 220h160v-160H400v160ZM180-400h160v-160H180v160Zm440 0h160v-160H620v160ZM180-180h160v-160H180v160Zm440 0h160v-160H620v160Z\"/>\n",
              "  </svg>\n",
              "    </button>\n",
              "\n",
              "  <style>\n",
              "    .colab-df-container {\n",
              "      display:flex;\n",
              "      gap: 12px;\n",
              "    }\n",
              "\n",
              "    .colab-df-convert {\n",
              "      background-color: #E8F0FE;\n",
              "      border: none;\n",
              "      border-radius: 50%;\n",
              "      cursor: pointer;\n",
              "      display: none;\n",
              "      fill: #1967D2;\n",
              "      height: 32px;\n",
              "      padding: 0 0 0 0;\n",
              "      width: 32px;\n",
              "    }\n",
              "\n",
              "    .colab-df-convert:hover {\n",
              "      background-color: #E2EBFA;\n",
              "      box-shadow: 0px 1px 2px rgba(60, 64, 67, 0.3), 0px 1px 3px 1px rgba(60, 64, 67, 0.15);\n",
              "      fill: #174EA6;\n",
              "    }\n",
              "\n",
              "    .colab-df-buttons div {\n",
              "      margin-bottom: 4px;\n",
              "    }\n",
              "\n",
              "    [theme=dark] .colab-df-convert {\n",
              "      background-color: #3B4455;\n",
              "      fill: #D2E3FC;\n",
              "    }\n",
              "\n",
              "    [theme=dark] .colab-df-convert:hover {\n",
              "      background-color: #434B5C;\n",
              "      box-shadow: 0px 1px 3px 1px rgba(0, 0, 0, 0.15);\n",
              "      filter: drop-shadow(0px 1px 2px rgba(0, 0, 0, 0.3));\n",
              "      fill: #FFFFFF;\n",
              "    }\n",
              "  </style>\n",
              "\n",
              "    <script>\n",
              "      const buttonEl =\n",
              "        document.querySelector('#df-d7183dda-cedc-4d19-8cb0-d895d505a065 button.colab-df-convert');\n",
              "      buttonEl.style.display =\n",
              "        google.colab.kernel.accessAllowed ? 'block' : 'none';\n",
              "\n",
              "      async function convertToInteractive(key) {\n",
              "        const element = document.querySelector('#df-d7183dda-cedc-4d19-8cb0-d895d505a065');\n",
              "        const dataTable =\n",
              "          await google.colab.kernel.invokeFunction('convertToInteractive',\n",
              "                                                    [key], {});\n",
              "        if (!dataTable) return;\n",
              "\n",
              "        const docLinkHtml = 'Like what you see? Visit the ' +\n",
              "          '<a target=\"_blank\" href=https://colab.research.google.com/notebooks/data_table.ipynb>data table notebook</a>'\n",
              "          + ' to learn more about interactive tables.';\n",
              "        element.innerHTML = '';\n",
              "        dataTable['output_type'] = 'display_data';\n",
              "        await google.colab.output.renderOutput(dataTable, element);\n",
              "        const docLink = document.createElement('div');\n",
              "        docLink.innerHTML = docLinkHtml;\n",
              "        element.appendChild(docLink);\n",
              "      }\n",
              "    </script>\n",
              "  </div>\n",
              "\n",
              "\n",
              "    <div id=\"df-02bc1f1e-0813-48c9-bcd6-5304a53026b8\">\n",
              "      <button class=\"colab-df-quickchart\" onclick=\"quickchart('df-02bc1f1e-0813-48c9-bcd6-5304a53026b8')\"\n",
              "                title=\"Suggest charts\"\n",
              "                style=\"display:none;\">\n",
              "\n",
              "<svg xmlns=\"http://www.w3.org/2000/svg\" height=\"24px\"viewBox=\"0 0 24 24\"\n",
              "     width=\"24px\">\n",
              "    <g>\n",
              "        <path d=\"M19 3H5c-1.1 0-2 .9-2 2v14c0 1.1.9 2 2 2h14c1.1 0 2-.9 2-2V5c0-1.1-.9-2-2-2zM9 17H7v-7h2v7zm4 0h-2V7h2v10zm4 0h-2v-4h2v4z\"/>\n",
              "    </g>\n",
              "</svg>\n",
              "      </button>\n",
              "\n",
              "<style>\n",
              "  .colab-df-quickchart {\n",
              "      --bg-color: #E8F0FE;\n",
              "      --fill-color: #1967D2;\n",
              "      --hover-bg-color: #E2EBFA;\n",
              "      --hover-fill-color: #174EA6;\n",
              "      --disabled-fill-color: #AAA;\n",
              "      --disabled-bg-color: #DDD;\n",
              "  }\n",
              "\n",
              "  [theme=dark] .colab-df-quickchart {\n",
              "      --bg-color: #3B4455;\n",
              "      --fill-color: #D2E3FC;\n",
              "      --hover-bg-color: #434B5C;\n",
              "      --hover-fill-color: #FFFFFF;\n",
              "      --disabled-bg-color: #3B4455;\n",
              "      --disabled-fill-color: #666;\n",
              "  }\n",
              "\n",
              "  .colab-df-quickchart {\n",
              "    background-color: var(--bg-color);\n",
              "    border: none;\n",
              "    border-radius: 50%;\n",
              "    cursor: pointer;\n",
              "    display: none;\n",
              "    fill: var(--fill-color);\n",
              "    height: 32px;\n",
              "    padding: 0;\n",
              "    width: 32px;\n",
              "  }\n",
              "\n",
              "  .colab-df-quickchart:hover {\n",
              "    background-color: var(--hover-bg-color);\n",
              "    box-shadow: 0 1px 2px rgba(60, 64, 67, 0.3), 0 1px 3px 1px rgba(60, 64, 67, 0.15);\n",
              "    fill: var(--button-hover-fill-color);\n",
              "  }\n",
              "\n",
              "  .colab-df-quickchart-complete:disabled,\n",
              "  .colab-df-quickchart-complete:disabled:hover {\n",
              "    background-color: var(--disabled-bg-color);\n",
              "    fill: var(--disabled-fill-color);\n",
              "    box-shadow: none;\n",
              "  }\n",
              "\n",
              "  .colab-df-spinner {\n",
              "    border: 2px solid var(--fill-color);\n",
              "    border-color: transparent;\n",
              "    border-bottom-color: var(--fill-color);\n",
              "    animation:\n",
              "      spin 1s steps(1) infinite;\n",
              "  }\n",
              "\n",
              "  @keyframes spin {\n",
              "    0% {\n",
              "      border-color: transparent;\n",
              "      border-bottom-color: var(--fill-color);\n",
              "      border-left-color: var(--fill-color);\n",
              "    }\n",
              "    20% {\n",
              "      border-color: transparent;\n",
              "      border-left-color: var(--fill-color);\n",
              "      border-top-color: var(--fill-color);\n",
              "    }\n",
              "    30% {\n",
              "      border-color: transparent;\n",
              "      border-left-color: var(--fill-color);\n",
              "      border-top-color: var(--fill-color);\n",
              "      border-right-color: var(--fill-color);\n",
              "    }\n",
              "    40% {\n",
              "      border-color: transparent;\n",
              "      border-right-color: var(--fill-color);\n",
              "      border-top-color: var(--fill-color);\n",
              "    }\n",
              "    60% {\n",
              "      border-color: transparent;\n",
              "      border-right-color: var(--fill-color);\n",
              "    }\n",
              "    80% {\n",
              "      border-color: transparent;\n",
              "      border-right-color: var(--fill-color);\n",
              "      border-bottom-color: var(--fill-color);\n",
              "    }\n",
              "    90% {\n",
              "      border-color: transparent;\n",
              "      border-bottom-color: var(--fill-color);\n",
              "    }\n",
              "  }\n",
              "</style>\n",
              "\n",
              "      <script>\n",
              "        async function quickchart(key) {\n",
              "          const quickchartButtonEl =\n",
              "            document.querySelector('#' + key + ' button');\n",
              "          quickchartButtonEl.disabled = true;  // To prevent multiple clicks.\n",
              "          quickchartButtonEl.classList.add('colab-df-spinner');\n",
              "          try {\n",
              "            const charts = await google.colab.kernel.invokeFunction(\n",
              "                'suggestCharts', [key], {});\n",
              "          } catch (error) {\n",
              "            console.error('Error during call to suggestCharts:', error);\n",
              "          }\n",
              "          quickchartButtonEl.classList.remove('colab-df-spinner');\n",
              "          quickchartButtonEl.classList.add('colab-df-quickchart-complete');\n",
              "        }\n",
              "        (() => {\n",
              "          let quickchartButtonEl =\n",
              "            document.querySelector('#df-02bc1f1e-0813-48c9-bcd6-5304a53026b8 button');\n",
              "          quickchartButtonEl.style.display =\n",
              "            google.colab.kernel.accessAllowed ? 'block' : 'none';\n",
              "        })();\n",
              "      </script>\n",
              "    </div>\n",
              "\n",
              "    </div>\n",
              "  </div>\n"
            ],
            "application/vnd.google.colaboratory.intrinsic+json": {
              "type": "dataframe",
              "variable_name": "data_merged"
            }
          },
          "metadata": {},
          "execution_count": 32
        }
      ]
    },
    {
      "cell_type": "markdown",
      "source": [
        "- Saya menggunakan `merge()` untuk menggabungkan DataFrame berdasarkan `ISBN` dan `User-ID`.\n",
        "- `how='inner'` artinya hanya data yang memiliki kecocokan di kedua dataset yang disertakan.\n",
        "- Hasilnya adalah satu DataFrame lengkap yang siap diproses untuk sistem rekomendasi."
      ],
      "metadata": {
        "id": "gXO-X7bh7WbZ"
      }
    },
    {
      "cell_type": "markdown",
      "source": [
        "### **Cek dan Filter Rating yang Bernilai 0**"
      ],
      "metadata": {
        "id": "caLnlsPJ7lFE"
      }
    },
    {
      "cell_type": "markdown",
      "source": [
        "Karena beberapa dataset rating (termasuk dari Amazon) menyertakan Book-Rating = 0 untuk menandakan bahwa pengguna belum benar-benar memberi rating."
      ],
      "metadata": {
        "id": "odU74gRC7h7o"
      }
    },
    {
      "cell_type": "code",
      "source": [
        "# Cek distribusi rating\n",
        "data_merged['Book-Rating'].value_counts().sort_index()"
      ],
      "metadata": {
        "colab": {
          "base_uri": "https://localhost:8080/",
          "height": 460
        },
        "id": "8RwGvvkT7XuQ",
        "outputId": "d24db215-628e-4094-f3e1-645092a27f66"
      },
      "execution_count": 33,
      "outputs": [
        {
          "output_type": "execute_result",
          "data": {
            "text/plain": [
              "Book-Rating\n",
              "0     647294\n",
              "1       1481\n",
              "2       2375\n",
              "3       5118\n",
              "4       7617\n",
              "5      45355\n",
              "6      31687\n",
              "7      66402\n",
              "8      91804\n",
              "9      60778\n",
              "10     71225\n",
              "Name: count, dtype: int64"
            ],
            "text/html": [
              "<div>\n",
              "<style scoped>\n",
              "    .dataframe tbody tr th:only-of-type {\n",
              "        vertical-align: middle;\n",
              "    }\n",
              "\n",
              "    .dataframe tbody tr th {\n",
              "        vertical-align: top;\n",
              "    }\n",
              "\n",
              "    .dataframe thead th {\n",
              "        text-align: right;\n",
              "    }\n",
              "</style>\n",
              "<table border=\"1\" class=\"dataframe\">\n",
              "  <thead>\n",
              "    <tr style=\"text-align: right;\">\n",
              "      <th></th>\n",
              "      <th>count</th>\n",
              "    </tr>\n",
              "    <tr>\n",
              "      <th>Book-Rating</th>\n",
              "      <th></th>\n",
              "    </tr>\n",
              "  </thead>\n",
              "  <tbody>\n",
              "    <tr>\n",
              "      <th>0</th>\n",
              "      <td>647294</td>\n",
              "    </tr>\n",
              "    <tr>\n",
              "      <th>1</th>\n",
              "      <td>1481</td>\n",
              "    </tr>\n",
              "    <tr>\n",
              "      <th>2</th>\n",
              "      <td>2375</td>\n",
              "    </tr>\n",
              "    <tr>\n",
              "      <th>3</th>\n",
              "      <td>5118</td>\n",
              "    </tr>\n",
              "    <tr>\n",
              "      <th>4</th>\n",
              "      <td>7617</td>\n",
              "    </tr>\n",
              "    <tr>\n",
              "      <th>5</th>\n",
              "      <td>45355</td>\n",
              "    </tr>\n",
              "    <tr>\n",
              "      <th>6</th>\n",
              "      <td>31687</td>\n",
              "    </tr>\n",
              "    <tr>\n",
              "      <th>7</th>\n",
              "      <td>66402</td>\n",
              "    </tr>\n",
              "    <tr>\n",
              "      <th>8</th>\n",
              "      <td>91804</td>\n",
              "    </tr>\n",
              "    <tr>\n",
              "      <th>9</th>\n",
              "      <td>60778</td>\n",
              "    </tr>\n",
              "    <tr>\n",
              "      <th>10</th>\n",
              "      <td>71225</td>\n",
              "    </tr>\n",
              "  </tbody>\n",
              "</table>\n",
              "</div><br><label><b>dtype:</b> int64</label>"
            ]
          },
          "metadata": {},
          "execution_count": 33
        }
      ]
    },
    {
      "cell_type": "markdown",
      "source": [
        "**🔍 Analisis Cepat**:\n",
        "- Rating 0 mendominasi (lebih dari 60 ribu entri) — ini menandakan bahwa sebagian besar data hanyalah interaksi pengguna dengan buku (bukan rating sebenarnya).\n",
        "\n",
        "- Rating 1–10 jauh lebih sedikit dan itulah yang benar-benar mencerminkan penilaian pengguna."
      ],
      "metadata": {
        "id": "5utL2xiw83Pd"
      }
    },
    {
      "cell_type": "code",
      "source": [
        "# Filter hanya data dengan rating > 0\n",
        "data_filtered = data_merged[data_merged['Book-Rating'] > 0]\n",
        "\n",
        "# Cek distribusi ulang\n",
        "data_filtered['Book-Rating'].value_counts().sort_index()"
      ],
      "metadata": {
        "colab": {
          "base_uri": "https://localhost:8080/",
          "height": 429
        },
        "id": "r1x4TVNy9AJ4",
        "outputId": "8aaa5dc5-fa2e-4838-f97a-aa24bce5d992"
      },
      "execution_count": 34,
      "outputs": [
        {
          "output_type": "execute_result",
          "data": {
            "text/plain": [
              "Book-Rating\n",
              "1      1481\n",
              "2      2375\n",
              "3      5118\n",
              "4      7617\n",
              "5     45355\n",
              "6     31687\n",
              "7     66402\n",
              "8     91804\n",
              "9     60778\n",
              "10    71225\n",
              "Name: count, dtype: int64"
            ],
            "text/html": [
              "<div>\n",
              "<style scoped>\n",
              "    .dataframe tbody tr th:only-of-type {\n",
              "        vertical-align: middle;\n",
              "    }\n",
              "\n",
              "    .dataframe tbody tr th {\n",
              "        vertical-align: top;\n",
              "    }\n",
              "\n",
              "    .dataframe thead th {\n",
              "        text-align: right;\n",
              "    }\n",
              "</style>\n",
              "<table border=\"1\" class=\"dataframe\">\n",
              "  <thead>\n",
              "    <tr style=\"text-align: right;\">\n",
              "      <th></th>\n",
              "      <th>count</th>\n",
              "    </tr>\n",
              "    <tr>\n",
              "      <th>Book-Rating</th>\n",
              "      <th></th>\n",
              "    </tr>\n",
              "  </thead>\n",
              "  <tbody>\n",
              "    <tr>\n",
              "      <th>1</th>\n",
              "      <td>1481</td>\n",
              "    </tr>\n",
              "    <tr>\n",
              "      <th>2</th>\n",
              "      <td>2375</td>\n",
              "    </tr>\n",
              "    <tr>\n",
              "      <th>3</th>\n",
              "      <td>5118</td>\n",
              "    </tr>\n",
              "    <tr>\n",
              "      <th>4</th>\n",
              "      <td>7617</td>\n",
              "    </tr>\n",
              "    <tr>\n",
              "      <th>5</th>\n",
              "      <td>45355</td>\n",
              "    </tr>\n",
              "    <tr>\n",
              "      <th>6</th>\n",
              "      <td>31687</td>\n",
              "    </tr>\n",
              "    <tr>\n",
              "      <th>7</th>\n",
              "      <td>66402</td>\n",
              "    </tr>\n",
              "    <tr>\n",
              "      <th>8</th>\n",
              "      <td>91804</td>\n",
              "    </tr>\n",
              "    <tr>\n",
              "      <th>9</th>\n",
              "      <td>60778</td>\n",
              "    </tr>\n",
              "    <tr>\n",
              "      <th>10</th>\n",
              "      <td>71225</td>\n",
              "    </tr>\n",
              "  </tbody>\n",
              "</table>\n",
              "</div><br><label><b>dtype:</b> int64</label>"
            ]
          },
          "metadata": {},
          "execution_count": 34
        }
      ]
    },
    {
      "cell_type": "markdown",
      "source": [
        "Saya hanya akan menyimpan data rating **yang valid** (nilai 1–10), karena rating = 0 menandakan pengguna *tidak memberikan rating* atau hanya *melihat buku* saja.  \n",
        "Data ini akan digunakan sebagai dasar model rekomendasi kita."
      ],
      "metadata": {
        "id": "_clyI9BC9OtW"
      }
    },
    {
      "cell_type": "code",
      "source": [
        "data_filtered.head()"
      ],
      "metadata": {
        "colab": {
          "base_uri": "https://localhost:8080/",
          "height": 206
        },
        "id": "bcqqKtlJ9Qx4",
        "outputId": "73497d7f-33dd-4b0b-bcd9-efa3bcce7794"
      },
      "execution_count": 35,
      "outputs": [
        {
          "output_type": "execute_result",
          "data": {
            "text/plain": [
              "    User-ID        ISBN  Book-Rating  \\\n",
              "1    276726  0155061224            5   \n",
              "3    276729  052165615X            3   \n",
              "4    276729  0521795028            6   \n",
              "6    276744  038550120X            7   \n",
              "13   276747  0060517794            9   \n",
              "\n",
              "                                           Book-Title    Book-Author  \\\n",
              "1                                    Rites of Passage     Judith Rae   \n",
              "3                                      Help!: Level 1  Philip Prowse   \n",
              "4   The Amsterdam Connection : Level 4 (Cambridge ...    Sue Leather   \n",
              "6                                     A Painted House   JOHN GRISHAM   \n",
              "13                           Little Altars Everywhere  Rebecca Wells   \n",
              "\n",
              "    Year-Of-Publication                   Publisher  \\\n",
              "1                  2001                      Heinle   \n",
              "3                  1999  Cambridge University Press   \n",
              "4                  2001  Cambridge University Press   \n",
              "6                  2001                   Doubleday   \n",
              "13                 2003                 HarperTorch   \n",
              "\n",
              "                     Location  Age  \n",
              "1    seattle, washington, usa   34  \n",
              "3        rijeka, n/a, croatia   16  \n",
              "4        rijeka, n/a, croatia   16  \n",
              "6   torrance, california, usa   34  \n",
              "13       iowa city, iowa, usa   25  "
            ],
            "text/html": [
              "\n",
              "  <div id=\"df-e52e050e-e843-4431-92ea-b10779a3cf07\" class=\"colab-df-container\">\n",
              "    <div>\n",
              "<style scoped>\n",
              "    .dataframe tbody tr th:only-of-type {\n",
              "        vertical-align: middle;\n",
              "    }\n",
              "\n",
              "    .dataframe tbody tr th {\n",
              "        vertical-align: top;\n",
              "    }\n",
              "\n",
              "    .dataframe thead th {\n",
              "        text-align: right;\n",
              "    }\n",
              "</style>\n",
              "<table border=\"1\" class=\"dataframe\">\n",
              "  <thead>\n",
              "    <tr style=\"text-align: right;\">\n",
              "      <th></th>\n",
              "      <th>User-ID</th>\n",
              "      <th>ISBN</th>\n",
              "      <th>Book-Rating</th>\n",
              "      <th>Book-Title</th>\n",
              "      <th>Book-Author</th>\n",
              "      <th>Year-Of-Publication</th>\n",
              "      <th>Publisher</th>\n",
              "      <th>Location</th>\n",
              "      <th>Age</th>\n",
              "    </tr>\n",
              "  </thead>\n",
              "  <tbody>\n",
              "    <tr>\n",
              "      <th>1</th>\n",
              "      <td>276726</td>\n",
              "      <td>0155061224</td>\n",
              "      <td>5</td>\n",
              "      <td>Rites of Passage</td>\n",
              "      <td>Judith Rae</td>\n",
              "      <td>2001</td>\n",
              "      <td>Heinle</td>\n",
              "      <td>seattle, washington, usa</td>\n",
              "      <td>34</td>\n",
              "    </tr>\n",
              "    <tr>\n",
              "      <th>3</th>\n",
              "      <td>276729</td>\n",
              "      <td>052165615X</td>\n",
              "      <td>3</td>\n",
              "      <td>Help!: Level 1</td>\n",
              "      <td>Philip Prowse</td>\n",
              "      <td>1999</td>\n",
              "      <td>Cambridge University Press</td>\n",
              "      <td>rijeka, n/a, croatia</td>\n",
              "      <td>16</td>\n",
              "    </tr>\n",
              "    <tr>\n",
              "      <th>4</th>\n",
              "      <td>276729</td>\n",
              "      <td>0521795028</td>\n",
              "      <td>6</td>\n",
              "      <td>The Amsterdam Connection : Level 4 (Cambridge ...</td>\n",
              "      <td>Sue Leather</td>\n",
              "      <td>2001</td>\n",
              "      <td>Cambridge University Press</td>\n",
              "      <td>rijeka, n/a, croatia</td>\n",
              "      <td>16</td>\n",
              "    </tr>\n",
              "    <tr>\n",
              "      <th>6</th>\n",
              "      <td>276744</td>\n",
              "      <td>038550120X</td>\n",
              "      <td>7</td>\n",
              "      <td>A Painted House</td>\n",
              "      <td>JOHN GRISHAM</td>\n",
              "      <td>2001</td>\n",
              "      <td>Doubleday</td>\n",
              "      <td>torrance, california, usa</td>\n",
              "      <td>34</td>\n",
              "    </tr>\n",
              "    <tr>\n",
              "      <th>13</th>\n",
              "      <td>276747</td>\n",
              "      <td>0060517794</td>\n",
              "      <td>9</td>\n",
              "      <td>Little Altars Everywhere</td>\n",
              "      <td>Rebecca Wells</td>\n",
              "      <td>2003</td>\n",
              "      <td>HarperTorch</td>\n",
              "      <td>iowa city, iowa, usa</td>\n",
              "      <td>25</td>\n",
              "    </tr>\n",
              "  </tbody>\n",
              "</table>\n",
              "</div>\n",
              "    <div class=\"colab-df-buttons\">\n",
              "\n",
              "  <div class=\"colab-df-container\">\n",
              "    <button class=\"colab-df-convert\" onclick=\"convertToInteractive('df-e52e050e-e843-4431-92ea-b10779a3cf07')\"\n",
              "            title=\"Convert this dataframe to an interactive table.\"\n",
              "            style=\"display:none;\">\n",
              "\n",
              "  <svg xmlns=\"http://www.w3.org/2000/svg\" height=\"24px\" viewBox=\"0 -960 960 960\">\n",
              "    <path d=\"M120-120v-720h720v720H120Zm60-500h600v-160H180v160Zm220 220h160v-160H400v160Zm0 220h160v-160H400v160ZM180-400h160v-160H180v160Zm440 0h160v-160H620v160ZM180-180h160v-160H180v160Zm440 0h160v-160H620v160Z\"/>\n",
              "  </svg>\n",
              "    </button>\n",
              "\n",
              "  <style>\n",
              "    .colab-df-container {\n",
              "      display:flex;\n",
              "      gap: 12px;\n",
              "    }\n",
              "\n",
              "    .colab-df-convert {\n",
              "      background-color: #E8F0FE;\n",
              "      border: none;\n",
              "      border-radius: 50%;\n",
              "      cursor: pointer;\n",
              "      display: none;\n",
              "      fill: #1967D2;\n",
              "      height: 32px;\n",
              "      padding: 0 0 0 0;\n",
              "      width: 32px;\n",
              "    }\n",
              "\n",
              "    .colab-df-convert:hover {\n",
              "      background-color: #E2EBFA;\n",
              "      box-shadow: 0px 1px 2px rgba(60, 64, 67, 0.3), 0px 1px 3px 1px rgba(60, 64, 67, 0.15);\n",
              "      fill: #174EA6;\n",
              "    }\n",
              "\n",
              "    .colab-df-buttons div {\n",
              "      margin-bottom: 4px;\n",
              "    }\n",
              "\n",
              "    [theme=dark] .colab-df-convert {\n",
              "      background-color: #3B4455;\n",
              "      fill: #D2E3FC;\n",
              "    }\n",
              "\n",
              "    [theme=dark] .colab-df-convert:hover {\n",
              "      background-color: #434B5C;\n",
              "      box-shadow: 0px 1px 3px 1px rgba(0, 0, 0, 0.15);\n",
              "      filter: drop-shadow(0px 1px 2px rgba(0, 0, 0, 0.3));\n",
              "      fill: #FFFFFF;\n",
              "    }\n",
              "  </style>\n",
              "\n",
              "    <script>\n",
              "      const buttonEl =\n",
              "        document.querySelector('#df-e52e050e-e843-4431-92ea-b10779a3cf07 button.colab-df-convert');\n",
              "      buttonEl.style.display =\n",
              "        google.colab.kernel.accessAllowed ? 'block' : 'none';\n",
              "\n",
              "      async function convertToInteractive(key) {\n",
              "        const element = document.querySelector('#df-e52e050e-e843-4431-92ea-b10779a3cf07');\n",
              "        const dataTable =\n",
              "          await google.colab.kernel.invokeFunction('convertToInteractive',\n",
              "                                                    [key], {});\n",
              "        if (!dataTable) return;\n",
              "\n",
              "        const docLinkHtml = 'Like what you see? Visit the ' +\n",
              "          '<a target=\"_blank\" href=https://colab.research.google.com/notebooks/data_table.ipynb>data table notebook</a>'\n",
              "          + ' to learn more about interactive tables.';\n",
              "        element.innerHTML = '';\n",
              "        dataTable['output_type'] = 'display_data';\n",
              "        await google.colab.output.renderOutput(dataTable, element);\n",
              "        const docLink = document.createElement('div');\n",
              "        docLink.innerHTML = docLinkHtml;\n",
              "        element.appendChild(docLink);\n",
              "      }\n",
              "    </script>\n",
              "  </div>\n",
              "\n",
              "\n",
              "    <div id=\"df-833e090d-c724-4fe5-8673-212bb95d91fb\">\n",
              "      <button class=\"colab-df-quickchart\" onclick=\"quickchart('df-833e090d-c724-4fe5-8673-212bb95d91fb')\"\n",
              "                title=\"Suggest charts\"\n",
              "                style=\"display:none;\">\n",
              "\n",
              "<svg xmlns=\"http://www.w3.org/2000/svg\" height=\"24px\"viewBox=\"0 0 24 24\"\n",
              "     width=\"24px\">\n",
              "    <g>\n",
              "        <path d=\"M19 3H5c-1.1 0-2 .9-2 2v14c0 1.1.9 2 2 2h14c1.1 0 2-.9 2-2V5c0-1.1-.9-2-2-2zM9 17H7v-7h2v7zm4 0h-2V7h2v10zm4 0h-2v-4h2v4z\"/>\n",
              "    </g>\n",
              "</svg>\n",
              "      </button>\n",
              "\n",
              "<style>\n",
              "  .colab-df-quickchart {\n",
              "      --bg-color: #E8F0FE;\n",
              "      --fill-color: #1967D2;\n",
              "      --hover-bg-color: #E2EBFA;\n",
              "      --hover-fill-color: #174EA6;\n",
              "      --disabled-fill-color: #AAA;\n",
              "      --disabled-bg-color: #DDD;\n",
              "  }\n",
              "\n",
              "  [theme=dark] .colab-df-quickchart {\n",
              "      --bg-color: #3B4455;\n",
              "      --fill-color: #D2E3FC;\n",
              "      --hover-bg-color: #434B5C;\n",
              "      --hover-fill-color: #FFFFFF;\n",
              "      --disabled-bg-color: #3B4455;\n",
              "      --disabled-fill-color: #666;\n",
              "  }\n",
              "\n",
              "  .colab-df-quickchart {\n",
              "    background-color: var(--bg-color);\n",
              "    border: none;\n",
              "    border-radius: 50%;\n",
              "    cursor: pointer;\n",
              "    display: none;\n",
              "    fill: var(--fill-color);\n",
              "    height: 32px;\n",
              "    padding: 0;\n",
              "    width: 32px;\n",
              "  }\n",
              "\n",
              "  .colab-df-quickchart:hover {\n",
              "    background-color: var(--hover-bg-color);\n",
              "    box-shadow: 0 1px 2px rgba(60, 64, 67, 0.3), 0 1px 3px 1px rgba(60, 64, 67, 0.15);\n",
              "    fill: var(--button-hover-fill-color);\n",
              "  }\n",
              "\n",
              "  .colab-df-quickchart-complete:disabled,\n",
              "  .colab-df-quickchart-complete:disabled:hover {\n",
              "    background-color: var(--disabled-bg-color);\n",
              "    fill: var(--disabled-fill-color);\n",
              "    box-shadow: none;\n",
              "  }\n",
              "\n",
              "  .colab-df-spinner {\n",
              "    border: 2px solid var(--fill-color);\n",
              "    border-color: transparent;\n",
              "    border-bottom-color: var(--fill-color);\n",
              "    animation:\n",
              "      spin 1s steps(1) infinite;\n",
              "  }\n",
              "\n",
              "  @keyframes spin {\n",
              "    0% {\n",
              "      border-color: transparent;\n",
              "      border-bottom-color: var(--fill-color);\n",
              "      border-left-color: var(--fill-color);\n",
              "    }\n",
              "    20% {\n",
              "      border-color: transparent;\n",
              "      border-left-color: var(--fill-color);\n",
              "      border-top-color: var(--fill-color);\n",
              "    }\n",
              "    30% {\n",
              "      border-color: transparent;\n",
              "      border-left-color: var(--fill-color);\n",
              "      border-top-color: var(--fill-color);\n",
              "      border-right-color: var(--fill-color);\n",
              "    }\n",
              "    40% {\n",
              "      border-color: transparent;\n",
              "      border-right-color: var(--fill-color);\n",
              "      border-top-color: var(--fill-color);\n",
              "    }\n",
              "    60% {\n",
              "      border-color: transparent;\n",
              "      border-right-color: var(--fill-color);\n",
              "    }\n",
              "    80% {\n",
              "      border-color: transparent;\n",
              "      border-right-color: var(--fill-color);\n",
              "      border-bottom-color: var(--fill-color);\n",
              "    }\n",
              "    90% {\n",
              "      border-color: transparent;\n",
              "      border-bottom-color: var(--fill-color);\n",
              "    }\n",
              "  }\n",
              "</style>\n",
              "\n",
              "      <script>\n",
              "        async function quickchart(key) {\n",
              "          const quickchartButtonEl =\n",
              "            document.querySelector('#' + key + ' button');\n",
              "          quickchartButtonEl.disabled = true;  // To prevent multiple clicks.\n",
              "          quickchartButtonEl.classList.add('colab-df-spinner');\n",
              "          try {\n",
              "            const charts = await google.colab.kernel.invokeFunction(\n",
              "                'suggestCharts', [key], {});\n",
              "          } catch (error) {\n",
              "            console.error('Error during call to suggestCharts:', error);\n",
              "          }\n",
              "          quickchartButtonEl.classList.remove('colab-df-spinner');\n",
              "          quickchartButtonEl.classList.add('colab-df-quickchart-complete');\n",
              "        }\n",
              "        (() => {\n",
              "          let quickchartButtonEl =\n",
              "            document.querySelector('#df-833e090d-c724-4fe5-8673-212bb95d91fb button');\n",
              "          quickchartButtonEl.style.display =\n",
              "            google.colab.kernel.accessAllowed ? 'block' : 'none';\n",
              "        })();\n",
              "      </script>\n",
              "    </div>\n",
              "\n",
              "    </div>\n",
              "  </div>\n"
            ],
            "application/vnd.google.colaboratory.intrinsic+json": {
              "type": "dataframe",
              "variable_name": "data_filtered"
            }
          },
          "metadata": {},
          "execution_count": 35
        }
      ]
    },
    {
      "cell_type": "code",
      "source": [
        "df.isnull().sum()"
      ],
      "metadata": {
        "colab": {
          "base_uri": "https://localhost:8080/",
          "height": 272
        },
        "id": "WoZS3fCjHLSU",
        "outputId": "6b5fd778-4869-4f07-c311-0f1172d01dde"
      },
      "execution_count": 48,
      "outputs": [
        {
          "output_type": "execute_result",
          "data": {
            "text/plain": [
              "userID           0\n",
              "bookID           0\n",
              "rating           0\n",
              "user             0\n",
              "book             0\n",
              "scaled_rating    0\n",
              "dtype: int64"
            ],
            "text/html": [
              "<div>\n",
              "<style scoped>\n",
              "    .dataframe tbody tr th:only-of-type {\n",
              "        vertical-align: middle;\n",
              "    }\n",
              "\n",
              "    .dataframe tbody tr th {\n",
              "        vertical-align: top;\n",
              "    }\n",
              "\n",
              "    .dataframe thead th {\n",
              "        text-align: right;\n",
              "    }\n",
              "</style>\n",
              "<table border=\"1\" class=\"dataframe\">\n",
              "  <thead>\n",
              "    <tr style=\"text-align: right;\">\n",
              "      <th></th>\n",
              "      <th>0</th>\n",
              "    </tr>\n",
              "  </thead>\n",
              "  <tbody>\n",
              "    <tr>\n",
              "      <th>userID</th>\n",
              "      <td>0</td>\n",
              "    </tr>\n",
              "    <tr>\n",
              "      <th>bookID</th>\n",
              "      <td>0</td>\n",
              "    </tr>\n",
              "    <tr>\n",
              "      <th>rating</th>\n",
              "      <td>0</td>\n",
              "    </tr>\n",
              "    <tr>\n",
              "      <th>user</th>\n",
              "      <td>0</td>\n",
              "    </tr>\n",
              "    <tr>\n",
              "      <th>book</th>\n",
              "      <td>0</td>\n",
              "    </tr>\n",
              "    <tr>\n",
              "      <th>scaled_rating</th>\n",
              "      <td>0</td>\n",
              "    </tr>\n",
              "  </tbody>\n",
              "</table>\n",
              "</div><br><label><b>dtype:</b> int64</label>"
            ]
          },
          "metadata": {},
          "execution_count": 48
        }
      ]
    },
    {
      "cell_type": "code",
      "source": [
        "print(\"Jumlah data di setiap kolom:\")\n",
        "print(df.count())"
      ],
      "metadata": {
        "colab": {
          "base_uri": "https://localhost:8080/"
        },
        "id": "GahAJYhmHXqs",
        "outputId": "ea677fdb-f852-4d52-835b-556ec8afcb82"
      },
      "execution_count": 49,
      "outputs": [
        {
          "output_type": "stream",
          "name": "stdout",
          "text": [
            "Jumlah data di setiap kolom:\n",
            "userID           383842\n",
            "bookID           383842\n",
            "rating           383842\n",
            "user             383842\n",
            "book             383842\n",
            "scaled_rating    383842\n",
            "dtype: int64\n"
          ]
        }
      ]
    },
    {
      "cell_type": "code",
      "source": [
        "# Menampilkan jumlah total baris pada dataset\n",
        "print(\"Jumlah total data:\", len(data_filtered))"
      ],
      "metadata": {
        "colab": {
          "base_uri": "https://localhost:8080/"
        },
        "id": "eBxIH3GxHAJn",
        "outputId": "d5afcc5a-23c2-490c-9bfa-42bd0b4f71de"
      },
      "execution_count": 47,
      "outputs": [
        {
          "output_type": "stream",
          "name": "stdout",
          "text": [
            "Jumlah total data: 383842\n"
          ]
        }
      ]
    },
    {
      "cell_type": "markdown",
      "source": [
        "## **🧹 Data Preparation untuk Collaborative Filtering**"
      ],
      "metadata": {
        "id": "C1TelnMjCclk"
      }
    },
    {
      "cell_type": "markdown",
      "source": [
        "Mengambil kolom yang dibutuhkan saja"
      ],
      "metadata": {
        "id": "PJuxtsgJChYp"
      }
    },
    {
      "cell_type": "code",
      "source": [
        "# Ambil hanya kolom yang relevan untuk model collaborative filtering\n",
        "df = data_filtered[['User-ID', 'ISBN', 'Book-Rating']].copy()"
      ],
      "metadata": {
        "id": "jJN64zrh_QBp"
      },
      "execution_count": 36,
      "outputs": []
    },
    {
      "cell_type": "markdown",
      "source": [
        "Kita hanya memerlukan kolom:\n",
        "\n",
        "- User-ID → sebagai identitas pengguna\n",
        "\n",
        "- ISBN → sebagai identitas buku\n",
        "\n",
        "- Book-Rating → sebagai label atau nilai yang ingin kita prediksi"
      ],
      "metadata": {
        "id": "yzZOsHMVCcT-"
      }
    },
    {
      "cell_type": "markdown",
      "source": [
        "## Mengubah Nama Kolom"
      ],
      "metadata": {
        "id": "gKmOMovwCw-f"
      }
    },
    {
      "cell_type": "code",
      "source": [
        "# Ubah nama kolom agar lebih seragam\n",
        "df.columns = ['userID', 'bookID', 'rating']"
      ],
      "metadata": {
        "id": "Xi1zVABVCqOi"
      },
      "execution_count": 37,
      "outputs": []
    },
    {
      "cell_type": "markdown",
      "source": [
        "Mengganti nama kolom menjadi userID, bookID, dan rating agar lebih konsisten dan mudah digunakan di tahap encoding/training."
      ],
      "metadata": {
        "id": "YpgSkjOfC8Ms"
      }
    },
    {
      "cell_type": "markdown",
      "source": [
        "### Mengecek jumlah data"
      ],
      "metadata": {
        "id": "bkuFMwE1InIu"
      }
    },
    {
      "cell_type": "code",
      "source": [
        "# Cek jumlah total data\n",
        "print(\"Jumlah total data:\", len(df))\n",
        "\n",
        "# Cek jumlah data pada setiap kolom\n",
        "print(\"\\nJumlah data di setiap kolom:\")\n",
        "print(df.count())\n",
        "\n",
        "# Cek jumlah user dan buku unik\n",
        "print(\"\\nJumlah user unik:\", df['userID'].nunique())\n",
        "print(\"Jumlah buku unik:\", df['bookID'].nunique())\n",
        "\n",
        "# Cek distribusi rating\n",
        "print(\"\\nDistribusi rating:\")\n",
        "print(df['rating'].value_counts().sort_index())"
      ],
      "metadata": {
        "colab": {
          "base_uri": "https://localhost:8080/"
        },
        "id": "VH8wAsT-IKAr",
        "outputId": "ebe0d910-f869-4abc-aaba-281c583a35fd"
      },
      "execution_count": 51,
      "outputs": [
        {
          "output_type": "stream",
          "name": "stdout",
          "text": [
            "Jumlah total data: 383842\n",
            "\n",
            "Jumlah data di setiap kolom:\n",
            "userID           383842\n",
            "bookID           383842\n",
            "rating           383842\n",
            "user             383842\n",
            "book             383842\n",
            "scaled_rating    383842\n",
            "dtype: int64\n",
            "\n",
            "Jumlah user unik: 68091\n",
            "Jumlah buku unik: 149836\n",
            "\n",
            "Distribusi rating:\n",
            "rating\n",
            "1.0      1481\n",
            "2.0      2375\n",
            "3.0      5118\n",
            "4.0      7617\n",
            "5.0     45355\n",
            "6.0     31687\n",
            "7.0     66402\n",
            "8.0     91804\n",
            "9.0     60778\n",
            "10.0    71225\n",
            "Name: count, dtype: int64\n"
          ]
        }
      ]
    },
    {
      "cell_type": "markdown",
      "source": [
        "#### 🔍 Analisis Awal Dataset\n",
        "\n",
        "Sebelum masuk ke tahap encoding, kita perlu mengecek:\n",
        "- Jumlah total data (interaksi user dan buku).\n",
        "- Jumlah data valid per kolom.\n",
        "- Jumlah user dan buku unik.\n",
        "- Distribusi rating.\n",
        "\n",
        "Hal ini penting untuk mengetahui apakah data terlalu besar (perlu sampling) dan untuk menentukan ukuran embedding."
      ],
      "metadata": {
        "id": "5bYDK_ppIuGu"
      }
    },
    {
      "cell_type": "markdown",
      "source": [
        "### **Filtering & Sampling**"
      ],
      "metadata": {
        "id": "D5d4bsIDJkLY"
      }
    },
    {
      "cell_type": "markdown",
      "source": [
        "Filtering & Sampling sangat penting ketika kita berhadapan dengan dataset yang sangat besar"
      ],
      "metadata": {
        "id": "uOgJEAFLJotF"
      }
    },
    {
      "cell_type": "code",
      "source": [
        "# Hanya ambil rating >= 6 untuk fokus pada interaksi positif\n",
        "df = df[df['rating'] >= 6]\n",
        "\n",
        "# Ambil sampel 30% saja agar training tidak terlalu lama\n",
        "df = df.sample(frac=0.3, random_state=42)"
      ],
      "metadata": {
        "id": "dPwmRY40JmxC"
      },
      "execution_count": 60,
      "outputs": []
    },
    {
      "cell_type": "markdown",
      "source": [
        "## **Encode userID dan bookID menjadi indeks integer**"
      ],
      "metadata": {
        "id": "-SzENRESC44K"
      }
    },
    {
      "cell_type": "code",
      "source": [
        "# Encoding userID dan bookID menjadi indeks integer\n",
        "user_ids = df['userID'].unique().tolist()\n",
        "user_to_user_encoded = {x: i for i, x in enumerate(user_ids)}\n",
        "book_ids = df['bookID'].unique().tolist()\n",
        "book_to_book_encoded = {x: i for i, x in enumerate(book_ids)}\n",
        "\n",
        "# Mapping hasil encoding ke dataframe\n",
        "df['user'] = df['userID'].map(user_to_user_encoded)\n",
        "df['book'] = df['bookID'].map(book_to_book_encoded)"
      ],
      "metadata": {
        "id": "dWBmPzMkC6b6"
      },
      "execution_count": 61,
      "outputs": []
    },
    {
      "cell_type": "markdown",
      "source": [
        "📌 Penjelasan:\n",
        "\n",
        "Saya melakukan encoding ke dalam angka integer karena layer embedding membutuhkan input berupa angka.\n",
        "\n",
        "map() digunakan untuk menempelkan hasil encoding ke dataframe."
      ],
      "metadata": {
        "id": "7vIOfdODDCzl"
      }
    },
    {
      "cell_type": "markdown",
      "source": [
        "#### Hitung jumlah user dan buku untuk keperluan emmbbedding"
      ],
      "metadata": {
        "id": "wld7BBRsDLRh"
      }
    },
    {
      "cell_type": "code",
      "source": [
        "num_users = len(user_to_user_encoded)\n",
        "num_books = len(book_encoded_to_book)"
      ],
      "metadata": {
        "id": "h4UBAqg3DFAC"
      },
      "execution_count": 62,
      "outputs": []
    },
    {
      "cell_type": "markdown",
      "source": [
        "Rating perlu dikonversi ke tipe float32 agar kompatibel dengan TensorFlow saat proses pelatihan."
      ],
      "metadata": {
        "id": "gAFXP10zDT-Z"
      }
    },
    {
      "cell_type": "code",
      "source": [
        "df['rating'] = df['rating'].values.astype(np.float32)"
      ],
      "metadata": {
        "id": "KEdDCQafDKwa"
      },
      "execution_count": 63,
      "outputs": []
    },
    {
      "cell_type": "markdown",
      "source": [
        "### **Normalisasi nilai rating ke rentang 0-1**"
      ],
      "metadata": {
        "id": "Me1oVkLSDlMh"
      }
    },
    {
      "cell_type": "markdown",
      "source": [
        "Menormalkan rating ke dalam range [0,1] sangat membantu model dalam proses pelatihan karena fungsi aktivasi sigmoid menghasilkan output dalam rentang tersebut."
      ],
      "metadata": {
        "id": "Vv52DSq4Drwa"
      }
    },
    {
      "cell_type": "code",
      "source": [
        "min_rating = df['rating'].min()\n",
        "max_rating = df['rating'].max()\n",
        "\n",
        "df['scaled_rating'] = df['rating'].apply(lambda x: (x - min_rating) / (max_rating - min_rating))"
      ],
      "metadata": {
        "id": "TG3kGGmlDXZq"
      },
      "execution_count": 64,
      "outputs": []
    },
    {
      "cell_type": "markdown",
      "source": [
        "### **Membagi Data untuk Training dan Validasi**"
      ],
      "metadata": {
        "id": "3KmxrOOUDwKR"
      }
    },
    {
      "cell_type": "code",
      "source": [
        "# Gabungkan user dan book ke dalam satu array sebagai input\n",
        "x = df[['user', 'book']].values\n",
        "\n",
        "# Output target: scaled rating\n",
        "y = df['scaled_rating'].values\n",
        "\n",
        "# Bagi menjadi 80% training dan 20% validasi\n",
        "train_size = int(0.8 * len(x))\n",
        "x_train, x_val = x[:train_size], x[train_size:]\n",
        "y_train, y_val = y[:train_size], y[train_size:]"
      ],
      "metadata": {
        "id": "EgKQFWtUDp_K"
      },
      "execution_count": 65,
      "outputs": []
    },
    {
      "cell_type": "markdown",
      "source": [
        "Penjelasan :\n",
        "- x adalah kombinasi user dan book yang menjadi input model.\n",
        "\n",
        "- y adalah target label berupa rating yang dinormalisasi.\n",
        "\n",
        "- Dataset di-shuffle otomatis karena kita menggunakan teknik *slicing* langsung."
      ],
      "metadata": {
        "id": "x_W1oDR6D4cD"
      }
    },
    {
      "cell_type": "markdown",
      "source": [
        "### **Proses Training**"
      ],
      "metadata": {
        "id": "-H1u20ETEM75"
      }
    },
    {
      "cell_type": "code",
      "source": [],
      "metadata": {
        "id": "QcatXykOKSl-"
      },
      "execution_count": null,
      "outputs": []
    },
    {
      "cell_type": "markdown",
      "source": [
        "### **🧠 Model Definition - RecommenderNet**"
      ],
      "metadata": {
        "id": "pZ_fqsYxETYt"
      }
    },
    {
      "cell_type": "markdown",
      "source": [
        "Model ini bertugas untuk memprediksi rating atau menentukan tingkat kecocokan antara seorang pengguna (user) dan sebuah buku (book) berdasarkan interaksi masa lalu (dalam hal ini: rating yang pernah diberikan oleh user ke buku tertentu).\n",
        "\n",
        "Model ini menggunakan pendekatan Collaborative Filtering berbasis neural network, artinya:\n",
        "\n",
        ">Model tidak melihat isi buku, penulis, genre, atau fitur buku lainnya, melainkan hanya melihat hubungan antara pengguna dan buku melalui data rating historis."
      ],
      "metadata": {
        "id": "zG_lkFLBFu-w"
      }
    },
    {
      "cell_type": "markdown",
      "source": [
        "Kita akan membuat model rekomendasi berbasis embedding sederhana, yang menghitung skor kecocokan antara user dan buku menggunakan operasi dot product."
      ],
      "metadata": {
        "id": "bU5k9rUeEX8T"
      }
    },
    {
      "cell_type": "markdown",
      "source": [
        "🧠 Embedding adalah cara untuk mengubah userID atau bookID yang berupa angka ke dalam bentuk vektor berdimensi rendah (contoh: panjang 50).\n",
        "Contohnya:\n",
        "\n",
        "- User A → [0.1, 0.2, 0.8, ..., 0.05]\n",
        "\n",
        "- Book B → [0.7, 0.3, 0.5, ..., 0.6]\n",
        "\n",
        "Semakin mirip preferensi user terhadap buku tertentu, maka dot product dari dua vektor ini akan menghasilkan nilai tinggi (mendekati 1)."
      ],
      "metadata": {
        "id": "PNY4Gaf-FyER"
      }
    },
    {
      "cell_type": "markdown",
      "source": [
        "#### **🔧 1. Definisikan Kelas Model**"
      ],
      "metadata": {
        "id": "tCRojyNDEbkn"
      }
    },
    {
      "cell_type": "code",
      "source": [
        "import tensorflow as tf\n",
        "from tensorflow import keras\n",
        "from tensorflow.keras import layers\n",
        "\n",
        "class RecommenderNet(tf.keras.Model):\n",
        "    def __init__(self, num_users, num_books, embedding_size=50, **kwargs):\n",
        "        super(RecommenderNet, self).__init__(**kwargs)\n",
        "        self.user_embedding = layers.Embedding(\n",
        "            num_users, embedding_size,\n",
        "            embeddings_initializer='he_normal',\n",
        "            embeddings_regularizer=keras.regularizers.l2(1e-6)\n",
        "        )\n",
        "        self.user_bias = layers.Embedding(num_users, 1)\n",
        "\n",
        "        self.book_embedding = layers.Embedding(\n",
        "            num_books, embedding_size,\n",
        "            embeddings_initializer='he_normal',\n",
        "            embeddings_regularizer=keras.regularizers.l2(1e-6)\n",
        "        )\n",
        "        self.book_bias = layers.Embedding(num_books, 1)\n",
        "\n",
        "    def call(self, inputs):\n",
        "        user_vector = self.user_embedding(inputs[:, 0])\n",
        "        user_bias = self.user_bias(inputs[:, 0])\n",
        "        book_vector = self.book_embedding(inputs[:, 1])\n",
        "        book_bias = self.book_bias(inputs[:, 1])\n",
        "\n",
        "        dot_user_book = tf.reduce_sum(user_vector * book_vector, axis=1, keepdims=True)\n",
        "        x = dot_user_book + user_bias + book_bias\n",
        "\n",
        "        return tf.nn.sigmoid(x)"
      ],
      "metadata": {
        "id": "glxwWXQ8D2qy"
      },
      "execution_count": 66,
      "outputs": []
    },
    {
      "cell_type": "markdown",
      "source": [
        "Penjelasan:\n",
        "\n",
        "- Embedding: Mengubah user dan book ID ke vektor laten (feature vector).\n",
        "\n",
        "- dot_user_book: Dot product antara user dan book embeddings untuk menghitung matching score.\n",
        "\n",
        "- sigmoid: Mengubah hasil akhir ke skala [0,1]."
      ],
      "metadata": {
        "id": "sCKaNzh7EhtH"
      }
    },
    {
      "cell_type": "markdown",
      "source": [
        "#### **2. Kompilasi Model**"
      ],
      "metadata": {
        "id": "o1VcpbxrEq65"
      }
    },
    {
      "cell_type": "code",
      "source": [
        "model = RecommenderNet(num_users, num_books, embedding_size=50)\n",
        "\n",
        "model.compile(\n",
        "    loss=tf.keras.losses.BinaryCrossentropy(),\n",
        "    optimizer=keras.optimizers.Adam(learning_rate=0.001),\n",
        "    metrics=[tf.keras.metrics.RootMeanSquaredError()]\n",
        ")"
      ],
      "metadata": {
        "id": "cauv0GyAEgyz"
      },
      "execution_count": 67,
      "outputs": []
    },
    {
      "cell_type": "markdown",
      "source": [
        "Model ini menggunakan:\n",
        "- Loss Function: BinaryCrossentropy\n",
        "Karena target kita (rating yang sudah dinormalisasi) berada dalam skala 0–1, fungsi ini cocok untuk mengukur perbedaan antara prediksi dan data aktual.\n",
        "\n",
        "- Optimizer: Adam\n",
        "Optimizer ini secara otomatis menyesuaikan learning rate untuk setiap parameter, dan sering digunakan karena cepat konvergen.\n",
        "\n",
        "- Metric: RootMeanSquaredError\n",
        "Digunakan untuk melihat seberapa jauh rata-rata kesalahan prediksi dari nilai yang sebenarnya. Makin kecil, makin baik."
      ],
      "metadata": {
        "id": "-9o6a_nkFA5P"
      }
    },
    {
      "cell_type": "markdown",
      "source": [
        "#### **3. Training Model**"
      ],
      "metadata": {
        "id": "YvD26YGkF7gJ"
      }
    },
    {
      "cell_type": "code",
      "source": [
        "history = model.fit(\n",
        "    x_train, y_train,\n",
        "    validation_data=(x_val, y_val),\n",
        "    batch_size=64,\n",
        "    epochs=30\n",
        ")"
      ],
      "metadata": {
        "colab": {
          "base_uri": "https://localhost:8080/"
        },
        "id": "l1hYSa4GFDfK",
        "outputId": "8a321924-ab97-4f28-f1da-dbdf9e421b66"
      },
      "execution_count": 69,
      "outputs": [
        {
          "output_type": "stream",
          "name": "stdout",
          "text": [
            "Epoch 1/30\n",
            "\u001b[1m121/121\u001b[0m \u001b[32m━━━━━━━━━━━━━━━━━━━━\u001b[0m\u001b[37m\u001b[0m \u001b[1m14s\u001b[0m 116ms/step - loss: 0.6915 - root_mean_squared_error: 0.3190 - val_loss: 0.6918 - val_root_mean_squared_error: 0.3169\n",
            "Epoch 2/30\n",
            "\u001b[1m121/121\u001b[0m \u001b[32m━━━━━━━━━━━━━━━━━━━━\u001b[0m\u001b[37m\u001b[0m \u001b[1m20s\u001b[0m 116ms/step - loss: 0.6842 - root_mean_squared_error: 0.3160 - val_loss: 0.6908 - val_root_mean_squared_error: 0.3160\n",
            "Epoch 3/30\n",
            "\u001b[1m121/121\u001b[0m \u001b[32m━━━━━━━━━━━━━━━━━━━━\u001b[0m\u001b[37m\u001b[0m \u001b[1m20s\u001b[0m 111ms/step - loss: 0.6718 - root_mean_squared_error: 0.3040 - val_loss: 0.6900 - val_root_mean_squared_error: 0.3151\n",
            "Epoch 4/30\n",
            "\u001b[1m121/121\u001b[0m \u001b[32m━━━━━━━━━━━━━━━━━━━━\u001b[0m\u001b[37m\u001b[0m \u001b[1m22s\u001b[0m 120ms/step - loss: 0.6524 - root_mean_squared_error: 0.2878 - val_loss: 0.6897 - val_root_mean_squared_error: 0.3144\n",
            "Epoch 5/30\n",
            "\u001b[1m121/121\u001b[0m \u001b[32m━━━━━━━━━━━━━━━━━━━━\u001b[0m\u001b[37m\u001b[0m \u001b[1m20s\u001b[0m 113ms/step - loss: 0.6287 - root_mean_squared_error: 0.2660 - val_loss: 0.6898 - val_root_mean_squared_error: 0.3138\n",
            "Epoch 6/30\n",
            "\u001b[1m121/121\u001b[0m \u001b[32m━━━━━━━━━━━━━━━━━━━━\u001b[0m\u001b[37m\u001b[0m \u001b[1m21s\u001b[0m 115ms/step - loss: 0.6041 - root_mean_squared_error: 0.2416 - val_loss: 0.6901 - val_root_mean_squared_error: 0.3133\n",
            "Epoch 7/30\n",
            "\u001b[1m121/121\u001b[0m \u001b[32m━━━━━━━━━━━━━━━━━━━━\u001b[0m\u001b[37m\u001b[0m \u001b[1m14s\u001b[0m 114ms/step - loss: 0.5756 - root_mean_squared_error: 0.2165 - val_loss: 0.6907 - val_root_mean_squared_error: 0.3129\n",
            "Epoch 8/30\n",
            "\u001b[1m121/121\u001b[0m \u001b[32m━━━━━━━━━━━━━━━━━━━━\u001b[0m\u001b[37m\u001b[0m \u001b[1m20s\u001b[0m 114ms/step - loss: 0.5505 - root_mean_squared_error: 0.1917 - val_loss: 0.6914 - val_root_mean_squared_error: 0.3126\n",
            "Epoch 9/30\n",
            "\u001b[1m121/121\u001b[0m \u001b[32m━━━━━━━━━━━━━━━━━━━━\u001b[0m\u001b[37m\u001b[0m \u001b[1m21s\u001b[0m 117ms/step - loss: 0.5346 - root_mean_squared_error: 0.1632 - val_loss: 0.6922 - val_root_mean_squared_error: 0.3124\n",
            "Epoch 10/30\n",
            "\u001b[1m121/121\u001b[0m \u001b[32m━━━━━━━━━━━━━━━━━━━━\u001b[0m\u001b[37m\u001b[0m \u001b[1m20s\u001b[0m 112ms/step - loss: 0.5194 - root_mean_squared_error: 0.1410 - val_loss: 0.6929 - val_root_mean_squared_error: 0.3121\n",
            "Epoch 11/30\n",
            "\u001b[1m121/121\u001b[0m \u001b[32m━━━━━━━━━━━━━━━━━━━━\u001b[0m\u001b[37m\u001b[0m \u001b[1m14s\u001b[0m 114ms/step - loss: 0.5047 - root_mean_squared_error: 0.1224 - val_loss: 0.6936 - val_root_mean_squared_error: 0.3120\n",
            "Epoch 12/30\n",
            "\u001b[1m121/121\u001b[0m \u001b[32m━━━━━━━━━━━━━━━━━━━━\u001b[0m\u001b[37m\u001b[0m \u001b[1m20s\u001b[0m 114ms/step - loss: 0.4946 - root_mean_squared_error: 0.1054 - val_loss: 0.6942 - val_root_mean_squared_error: 0.3118\n",
            "Epoch 13/30\n",
            "\u001b[1m121/121\u001b[0m \u001b[32m━━━━━━━━━━━━━━━━━━━━\u001b[0m\u001b[37m\u001b[0m \u001b[1m14s\u001b[0m 114ms/step - loss: 0.4849 - root_mean_squared_error: 0.0913 - val_loss: 0.6948 - val_root_mean_squared_error: 0.3117\n",
            "Epoch 14/30\n",
            "\u001b[1m121/121\u001b[0m \u001b[32m━━━━━━━━━━━━━━━━━━━━\u001b[0m\u001b[37m\u001b[0m \u001b[1m21s\u001b[0m 115ms/step - loss: 0.4753 - root_mean_squared_error: 0.0792 - val_loss: 0.6953 - val_root_mean_squared_error: 0.3115\n",
            "Epoch 15/30\n",
            "\u001b[1m121/121\u001b[0m \u001b[32m━━━━━━━━━━━━━━━━━━━━\u001b[0m\u001b[37m\u001b[0m \u001b[1m21s\u001b[0m 116ms/step - loss: 0.4695 - root_mean_squared_error: 0.0685 - val_loss: 0.6958 - val_root_mean_squared_error: 0.3114\n",
            "Epoch 16/30\n",
            "\u001b[1m121/121\u001b[0m \u001b[32m━━━━━━━━━━━━━━━━━━━━\u001b[0m\u001b[37m\u001b[0m \u001b[1m20s\u001b[0m 113ms/step - loss: 0.4718 - root_mean_squared_error: 0.0588 - val_loss: 0.6963 - val_root_mean_squared_error: 0.3113\n",
            "Epoch 17/30\n",
            "\u001b[1m121/121\u001b[0m \u001b[32m━━━━━━━━━━━━━━━━━━━━\u001b[0m\u001b[37m\u001b[0m \u001b[1m14s\u001b[0m 117ms/step - loss: 0.4648 - root_mean_squared_error: 0.0526 - val_loss: 0.6967 - val_root_mean_squared_error: 0.3113\n",
            "Epoch 18/30\n",
            "\u001b[1m121/121\u001b[0m \u001b[32m━━━━━━━━━━━━━━━━━━━━\u001b[0m\u001b[37m\u001b[0m \u001b[1m14s\u001b[0m 114ms/step - loss: 0.4586 - root_mean_squared_error: 0.0466 - val_loss: 0.6971 - val_root_mean_squared_error: 0.3112\n",
            "Epoch 19/30\n",
            "\u001b[1m121/121\u001b[0m \u001b[32m━━━━━━━━━━━━━━━━━━━━\u001b[0m\u001b[37m\u001b[0m \u001b[1m14s\u001b[0m 114ms/step - loss: 0.4617 - root_mean_squared_error: 0.0414 - val_loss: 0.6975 - val_root_mean_squared_error: 0.3111\n",
            "Epoch 20/30\n",
            "\u001b[1m121/121\u001b[0m \u001b[32m━━━━━━━━━━━━━━━━━━━━\u001b[0m\u001b[37m\u001b[0m \u001b[1m20s\u001b[0m 114ms/step - loss: 0.4562 - root_mean_squared_error: 0.0375 - val_loss: 0.6979 - val_root_mean_squared_error: 0.3111\n",
            "Epoch 21/30\n",
            "\u001b[1m121/121\u001b[0m \u001b[32m━━━━━━━━━━━━━━━━━━━━\u001b[0m\u001b[37m\u001b[0m \u001b[1m13s\u001b[0m 111ms/step - loss: 0.4516 - root_mean_squared_error: 0.0340 - val_loss: 0.6983 - val_root_mean_squared_error: 0.3110\n",
            "Epoch 22/30\n",
            "\u001b[1m121/121\u001b[0m \u001b[32m━━━━━━━━━━━━━━━━━━━━\u001b[0m\u001b[37m\u001b[0m \u001b[1m21s\u001b[0m 116ms/step - loss: 0.4523 - root_mean_squared_error: 0.0311 - val_loss: 0.6985 - val_root_mean_squared_error: 0.3109\n",
            "Epoch 23/30\n",
            "\u001b[1m121/121\u001b[0m \u001b[32m━━━━━━━━━━━━━━━━━━━━\u001b[0m\u001b[37m\u001b[0m \u001b[1m20s\u001b[0m 114ms/step - loss: 0.4463 - root_mean_squared_error: 0.0291 - val_loss: 0.6989 - val_root_mean_squared_error: 0.3109\n",
            "Epoch 24/30\n",
            "\u001b[1m121/121\u001b[0m \u001b[32m━━━━━━━━━━━━━━━━━━━━\u001b[0m\u001b[37m\u001b[0m \u001b[1m20s\u001b[0m 112ms/step - loss: 0.4522 - root_mean_squared_error: 0.0272 - val_loss: 0.6991 - val_root_mean_squared_error: 0.3108\n",
            "Epoch 25/30\n",
            "\u001b[1m121/121\u001b[0m \u001b[32m━━━━━━━━━━━━━━━━━━━━\u001b[0m\u001b[37m\u001b[0m \u001b[1m21s\u001b[0m 113ms/step - loss: 0.4526 - root_mean_squared_error: 0.0254 - val_loss: 0.6994 - val_root_mean_squared_error: 0.3108\n",
            "Epoch 26/30\n",
            "\u001b[1m121/121\u001b[0m \u001b[32m━━━━━━━━━━━━━━━━━━━━\u001b[0m\u001b[37m\u001b[0m \u001b[1m14s\u001b[0m 112ms/step - loss: 0.4549 - root_mean_squared_error: 0.0233 - val_loss: 0.6996 - val_root_mean_squared_error: 0.3107\n",
            "Epoch 27/30\n",
            "\u001b[1m121/121\u001b[0m \u001b[32m━━━━━━━━━━━━━━━━━━━━\u001b[0m\u001b[37m\u001b[0m \u001b[1m21s\u001b[0m 116ms/step - loss: 0.4498 - root_mean_squared_error: 0.0218 - val_loss: 0.6999 - val_root_mean_squared_error: 0.3107\n",
            "Epoch 28/30\n",
            "\u001b[1m121/121\u001b[0m \u001b[32m━━━━━━━━━━━━━━━━━━━━\u001b[0m\u001b[37m\u001b[0m \u001b[1m20s\u001b[0m 111ms/step - loss: 0.4500 - root_mean_squared_error: 0.0211 - val_loss: 0.7000 - val_root_mean_squared_error: 0.3106\n",
            "Epoch 29/30\n",
            "\u001b[1m121/121\u001b[0m \u001b[32m━━━━━━━━━━━━━━━━━━━━\u001b[0m\u001b[37m\u001b[0m \u001b[1m21s\u001b[0m 114ms/step - loss: 0.4442 - root_mean_squared_error: 0.0200 - val_loss: 0.7003 - val_root_mean_squared_error: 0.3106\n",
            "Epoch 30/30\n",
            "\u001b[1m121/121\u001b[0m \u001b[32m━━━━━━━━━━━━━━━━━━━━\u001b[0m\u001b[37m\u001b[0m \u001b[1m14s\u001b[0m 112ms/step - loss: 0.4464 - root_mean_squared_error: 0.0193 - val_loss: 0.7004 - val_root_mean_squared_error: 0.3105\n"
          ]
        }
      ]
    },
    {
      "cell_type": "markdown",
      "source": [
        "### **Visualisasi Metriks Evaluasi**"
      ],
      "metadata": {
        "id": "2sk8lmIPNrDw"
      }
    },
    {
      "cell_type": "code",
      "source": [
        "import matplotlib.pyplot as plt\n",
        "\n",
        "plt.plot(history.history['root_mean_squared_error'])\n",
        "plt.plot(history.history['val_root_mean_squared_error'])\n",
        "plt.title('model_metrics')\n",
        "plt.ylabel('root_mean_squared_error')\n",
        "plt.xlabel('epoch')\n",
        "plt.legend(['train', 'test'], loc='upper left')\n",
        "plt.show()"
      ],
      "metadata": {
        "colab": {
          "base_uri": "https://localhost:8080/",
          "height": 472
        },
        "id": "nJ0ounkTNKiB",
        "outputId": "95d29d0c-2f35-42a8-ed17-e8a409f88a69"
      },
      "execution_count": 71,
      "outputs": [
        {
          "output_type": "display_data",
          "data": {
            "text/plain": [
              "<Figure size 640x480 with 1 Axes>"
            ],
            "image/png": "[encoded data removed]"
          },
          "metadata": {}
        }
      ]
    },
    {
      "cell_type": "markdown",
      "source": [
        "#### **📈 Interpretasi Hasil**"
      ],
      "metadata": {
        "id": "dCQYUkVuN1AT"
      }
    },
    {
      "cell_type": "markdown",
      "source": [
        "**Dari grafik yang dihasilkan:**\n",
        "\n",
        "- Proses training terlihat cukup stabil dan smooth.\n",
        "\n",
        "- RMSE pada data training terus menurun secara konsisten, menunjukkan bahwa model mampu memahami pola dalam data pelatihan.\n",
        "\n",
        "- RMSE pada data validasi mulai stagnan setelah beberapa epoch, namun tetap stabil tanpa lonjakan signifikan, menandakan bahwa tidak terjadi overfitting besar.\n",
        "\n",
        "**Hasil Akhir**:\n",
        "- RMSE pada data training: ±0.019\n",
        "\n",
        "- RMSE pada data validasi: ±0.310\n",
        "\n",
        "Nilai error ini tergolong baik mengingat rating yang diprediksi telah dinormalisasi ke skala 0–1. Model ini menunjukkan potensi untuk memberikan rekomendasi buku yang cukup relevan bagi pengguna."
      ],
      "metadata": {
        "id": "tSyZEp9ENeWS"
      }
    },
    {
      "cell_type": "markdown",
      "source": [
        "### **📖 Mendapatkan Rekomendasi Buku**"
      ],
      "metadata": {
        "id": "4REoRtkSOrQu"
      }
    },
    {
      "cell_type": "markdown",
      "source": [
        "Setelah model dilatih, kita kini dapat menggunakannya untuk memberikan rekomendasi buku kepada pengguna tertentu. Langkah pertama adalah memilih pengguna secara acak, lalu menentukan daftar buku yang belum pernah dibaca atau diberi rating oleh pengguna tersebut.\n",
        "\n",
        "Mengapa kita perlu menentukan buku yang belum pernah dikunjungi (dibaca)?\n",
        "Karena sistem rekomendasi bertugas memberikan buku baru yang berpotensi disukai pengguna, bukan buku yang sudah pernah mereka baca/rating sebelumnya.\n",
        "\n",
        "Untuk itu, kita akan membuat variabel books_not_read sebagai daftar kandidat buku yang akan direkomendasikan kepada user."
      ],
      "metadata": {
        "id": "MjB8Y7KUOuX8"
      }
    },
    {
      "cell_type": "markdown",
      "source": [
        "#### **Mendapatkan Rekomendasi**"
      ],
      "metadata": {
        "id": "WgKOqnfqOynU"
      }
    },
    {
      "cell_type": "code",
      "source": [
        "# Gunakan dataframe df dan book_df (berisi detail buku)\n",
        "book_df = data_filtered[['ISBN', 'Book-Title', 'Book-Author']].drop_duplicates()\n",
        "book_df = book_df.rename(columns={'ISBN': 'bookID'})\n",
        "\n",
        "# Ambil user secara acak\n",
        "user_id = df.userID.sample(1).iloc[0]\n",
        "\n",
        "# Daftar buku yang sudah diberi rating oleh user tersebut\n",
        "books_read_by_user = df[df.userID == user_id]\n",
        "\n",
        "# Buku yang belum pernah dirating user\n",
        "books_not_read = book_df[~book_df['bookID'].isin(books_read_by_user.bookID.values)]['bookID']\n",
        "books_not_read = list(set(books_not_read).intersection(set(book_to_book_encoded.keys())))\n",
        "\n",
        "# Encode buku-buku tersebut\n",
        "books_not_read_encoded = [[book_to_book_encoded.get(book)] for book in books_not_read]\n",
        "\n",
        "# Encode user ID\n",
        "user_encoder = user_to_user_encoded.get(user_id)\n",
        "\n",
        "# Bentuk pasangan (user, book)\n",
        "user_book_array = np.hstack(([[user_encoder]] * len(books_not_read_encoded), books_not_read_encoded))\n",
        "\n",
        "# Prediksi rating\n",
        "ratings = model.predict(user_book_array).flatten()\n",
        "\n",
        "# Ambil 10 rekomendasi teratas\n",
        "top_ratings_indices = ratings.argsort()[-10:][::-1]\n",
        "recommended_book_ids = [book_encoded_to_book.get(books_not_read_encoded[x][0]) for x in top_ratings_indices]"
      ],
      "metadata": {
        "colab": {
          "base_uri": "https://localhost:8080/"
        },
        "id": "UtdW04QxNLd8",
        "outputId": "05f0f354-491e-43db-84e0-140b34ca2f00"
      },
      "execution_count": 72,
      "outputs": [
        {
          "output_type": "stream",
          "name": "stdout",
          "text": [
            "\u001b[1m256/256\u001b[0m \u001b[32m━━━━━━━━━━━━━━━━━━━━\u001b[0m\u001b[37m\u001b[0m \u001b[1m1s\u001b[0m 2ms/step\n"
          ]
        }
      ]
    },
    {
      "cell_type": "markdown",
      "source": [
        "#### **📋 Menampilkan Hasil Rekomendasi**"
      ],
      "metadata": {
        "id": "bfrqpL28O6vt"
      }
    },
    {
      "cell_type": "code",
      "source": [
        "print('📚 Menampilkan Rekomendasi untuk User ID:', user_id)\n",
        "print('=' * 35)\n",
        "print('📘 Buku yang sebelumnya diberi rating tinggi:')\n",
        "print('-' * 35)\n",
        "\n",
        "# Tampilkan 5 buku dengan rating tertinggi dari user\n",
        "top_books_user = (\n",
        "    books_read_by_user.sort_values(by='rating', ascending=False)\n",
        "    .head(5)\n",
        "    .bookID.values\n",
        ")\n",
        "\n",
        "book_df_rows = book_df[book_df['bookID'].isin(top_books_user)]\n",
        "for row in book_df_rows.itertuples():\n",
        "    print(f'{row._2} - oleh {row._3}')\n",
        "\n",
        "print('-' * 35)\n",
        "print('📗 10 Rekomendasi Buku Terbaik:')\n",
        "print('-' * 35)\n",
        "\n",
        "recommended_books = book_df[book_df['bookID'].isin(recommended_book_ids)]\n",
        "for row in recommended_books.itertuples():\n",
        "    print(f'{row._2} - oleh {row._3}')"
      ],
      "metadata": {
        "colab": {
          "base_uri": "https://localhost:8080/"
        },
        "id": "2BRuql5cO9J9",
        "outputId": "b001c712-f79b-4dbc-acd0-8ba7532c94fd"
      },
      "execution_count": 73,
      "outputs": [
        {
          "output_type": "stream",
          "name": "stdout",
          "text": [
            "📚 Menampilkan Rekomendasi untuk User ID: 92979\n",
            "===================================\n",
            "📘 Buku yang sebelumnya diberi rating tinggi:\n",
            "-----------------------------------\n",
            "A Yellow Raft in Blue Water - oleh Michael Dorris\n",
            "More Headlines - oleh Jay Leno\n",
            "-----------------------------------\n",
            "📗 10 Rekomendasi Buku Terbaik:\n",
            "-----------------------------------\n",
            "The Boy Next Door - oleh Meggin Cabot\n",
            "Harold and the Purple Crayon 50th Anniversary Edition (Purple Crayon Books) - oleh Crockett Johnson\n",
            "I Am Legend - oleh Richard Matheson\n",
            "Secrets of the Vine Devotional (The Breakthrough Series) - oleh Bruce Wilkinson\n",
            "The Door into Summer - oleh Robert A. Heinlein\n",
            "Live Albom: The Best of Detroit Free Press Sports Columnist Mitch Albom (Live Albom) - oleh Mitch Albom\n",
            "The Vampire Lestat (Vampire Chronicles, Book II) - oleh ANNE RICE\n",
            "Flashback - oleh Nevada Barr\n",
            "The Collected Stories of Isaac Bashevis Singer - oleh Isaac Bashevis Singer\n",
            "Curanderismo: Mexican American Folk Healing - oleh Robert T., Ii Trotter\n"
          ]
        }
      ]
    },
    {
      "cell_type": "markdown",
      "source": [
        "📝 Penjelasan\n",
        "- Kita memilih 1 pengguna secara acak dari dataset.\n",
        "\n",
        "- Daftar buku yang belum pernah dirating oleh user disaring menggunakan ~isin().\n",
        "\n",
        "- Model digunakan untuk memprediksi seberapa besar kemungkinan user menyukai buku-buku yang belum dibaca.\n",
        "\n",
        "- 10 buku dengan skor tertinggi direkomendasikan sebagai hasil akhir.\n",
        "\n",
        "- Hasilnya ditampilkan dengan mencantumkan judul buku dan nama penulisnya."
      ],
      "metadata": {
        "id": "m8him4asPORy"
      }
    },
    {
      "cell_type": "code",
      "source": [],
      "metadata": {
        "id": "Ek4Un3vlPTpV"
      },
      "execution_count": null,
      "outputs": []
    }
  ]
}